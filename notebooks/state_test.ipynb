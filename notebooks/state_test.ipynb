{
 "cells": [
  {
   "cell_type": "markdown",
   "id": "add7967d-6e98-4d11-9f01-269804c8ef5d",
   "metadata": {},
   "source": [
    "This file provides an example of generating prompts to identify the case results manually using [Perplexity Playground](https://labs.perplexity.ai/).\n",
    "\n",
    "I use subprocess to copy the prompt to clipboard, which only works on MacOS\n",
    "\n",
    "Note: paths will need to be adjusted since output and data were moved out of variable_extraction"
   ]
  },
  {
   "cell_type": "code",
   "execution_count": 1,
   "id": "261a56ee-4f7a-4b4f-9318-73d9a56363f1",
   "metadata": {},
   "outputs": [],
   "source": [
    "import sys\n",
    "import os\n",
    "sys.path.append(os.getcwd()+\"/..\")"
   ]
  },
  {
   "cell_type": "code",
   "execution_count": 2,
   "id": "d85c1f10-3a80-45c1-bdef-8ca46783cc69",
   "metadata": {},
   "outputs": [],
   "source": [
    "from variable_extraction.utils.case_directory import CaseDirectory\n",
    "import dill\n",
    "import subprocess\n",
    "import pandas as pd"
   ]
  },
  {
   "cell_type": "code",
   "execution_count": 3,
   "id": "39ef70a0-d1a6-4538-8897-77743b3ca920",
   "metadata": {},
   "outputs": [],
   "source": [
    "d = CaseDirectory(\"../variable_extraction/data/100_random_sample\")"
   ]
  },
  {
   "cell_type": "markdown",
   "id": "61edb8fa-d403-4f96-bc6a-554c6aad3b2f",
   "metadata": {
    "jp-MarkdownHeadingCollapsed": true
   },
   "source": [
    "### Generate logs for keyword-classified trial cases"
   ]
  },
  {
   "cell_type": "code",
   "execution_count": 7,
   "id": "db3d53f8-7bb4-4bbf-940b-20d37a562fba",
   "metadata": {},
   "outputs": [],
   "source": [
    "d.write_metadata(\"../variable_extraction/output/100_random_state/metadata.csv\")"
   ]
  },
  {
   "cell_type": "code",
   "execution_count": 9,
   "id": "70d2a510-6d13-4b5f-ad62-7b2aaf015396",
   "metadata": {
    "scrolled": true
   },
   "outputs": [
    {
     "name": "stdout",
     "output_type": "stream",
     "text": [
      "\\Generating prompt for case 1 of 72\n"
     ]
    },
    {
     "name": "stderr",
     "output_type": "stream",
     "text": [
      "Number of requested results 6 is greater than number of elements in index 2, updating n_results = 2\n"
     ]
    },
    {
     "name": "stdout",
     "output_type": "stream",
     "text": [
      "\\Generating prompt for case 2 of 72\n"
     ]
    },
    {
     "name": "stderr",
     "output_type": "stream",
     "text": [
      "Number of requested results 6 is greater than number of elements in index 3, updating n_results = 3\n",
      "Number of requested results 6 is greater than number of elements in index 1, updating n_results = 1\n",
      "Number of requested results 6 is greater than number of elements in index 1, updating n_results = 1\n"
     ]
    },
    {
     "name": "stdout",
     "output_type": "stream",
     "text": [
      "\\Generating prompt for case 3 of 72\n",
      "\\Generating prompt for case 4 of 72\n",
      "\\Generating prompt for case 5 of 72\n",
      "\\Generating prompt for case 6 of 72\n"
     ]
    },
    {
     "name": "stderr",
     "output_type": "stream",
     "text": [
      "Number of requested results 6 is greater than number of elements in index 1, updating n_results = 1\n"
     ]
    },
    {
     "name": "stdout",
     "output_type": "stream",
     "text": [
      "\\Generating prompt for case 7 of 72\n",
      "\\Generating prompt for case 8 of 72\n",
      "\\Generating prompt for case 9 of 72\n"
     ]
    },
    {
     "name": "stderr",
     "output_type": "stream",
     "text": [
      "Number of requested results 6 is greater than number of elements in index 3, updating n_results = 3\n"
     ]
    },
    {
     "name": "stdout",
     "output_type": "stream",
     "text": [
      "\\Generating prompt for case 10 of 72\n",
      "\\Generating prompt for case 11 of 72\n"
     ]
    },
    {
     "name": "stderr",
     "output_type": "stream",
     "text": [
      "Number of requested results 6 is greater than number of elements in index 4, updating n_results = 4\n",
      "Number of requested results 6 is greater than number of elements in index 2, updating n_results = 2\n"
     ]
    },
    {
     "name": "stdout",
     "output_type": "stream",
     "text": [
      "\\Generating prompt for case 12 of 72\n",
      "\\Generating prompt for case 13 of 72\n"
     ]
    },
    {
     "name": "stderr",
     "output_type": "stream",
     "text": [
      "Number of requested results 6 is greater than number of elements in index 1, updating n_results = 1\n"
     ]
    },
    {
     "name": "stdout",
     "output_type": "stream",
     "text": [
      "\\Generating prompt for case 14 of 72\n",
      "\\Generating prompt for case 15 of 72\n",
      "\\Generating prompt for case 16 of 72\n",
      "\\Generating prompt for case 17 of 72\n",
      "\\Generating prompt for case 18 of 72\n",
      "\\Generating prompt for case 19 of 72\n",
      "\\Generating prompt for case 20 of 72\n",
      "\\Generating prompt for case 21 of 72\n",
      "\\Generating prompt for case 22 of 72\n"
     ]
    },
    {
     "name": "stderr",
     "output_type": "stream",
     "text": [
      "Number of requested results 6 is greater than number of elements in index 4, updating n_results = 4\n",
      "Number of requested results 6 is greater than number of elements in index 1, updating n_results = 1\n"
     ]
    },
    {
     "name": "stdout",
     "output_type": "stream",
     "text": [
      "\\Generating prompt for case 23 of 72\n"
     ]
    },
    {
     "name": "stderr",
     "output_type": "stream",
     "text": [
      "Number of requested results 6 is greater than number of elements in index 1, updating n_results = 1\n"
     ]
    },
    {
     "name": "stdout",
     "output_type": "stream",
     "text": [
      "\\Generating prompt for case 24 of 72\n",
      "\\Generating prompt for case 25 of 72\n"
     ]
    },
    {
     "name": "stderr",
     "output_type": "stream",
     "text": [
      "Number of requested results 6 is greater than number of elements in index 3, updating n_results = 3\n"
     ]
    },
    {
     "name": "stdout",
     "output_type": "stream",
     "text": [
      "\\Generating prompt for case 26 of 72\n"
     ]
    },
    {
     "name": "stderr",
     "output_type": "stream",
     "text": [
      "Number of requested results 6 is greater than number of elements in index 1, updating n_results = 1\n"
     ]
    },
    {
     "name": "stdout",
     "output_type": "stream",
     "text": [
      "\\Generating prompt for case 27 of 72\n"
     ]
    },
    {
     "name": "stderr",
     "output_type": "stream",
     "text": [
      "Number of requested results 6 is greater than number of elements in index 5, updating n_results = 5\n"
     ]
    },
    {
     "name": "stdout",
     "output_type": "stream",
     "text": [
      "\\Generating prompt for case 28 of 72\n",
      "\\Generating prompt for case 29 of 72\n"
     ]
    },
    {
     "name": "stderr",
     "output_type": "stream",
     "text": [
      "Number of requested results 6 is greater than number of elements in index 5, updating n_results = 5\n"
     ]
    },
    {
     "name": "stdout",
     "output_type": "stream",
     "text": [
      "\\Generating prompt for case 30 of 72\n",
      "\\Generating prompt for case 31 of 72\n"
     ]
    },
    {
     "name": "stderr",
     "output_type": "stream",
     "text": [
      "Number of requested results 6 is greater than number of elements in index 2, updating n_results = 2\n",
      "Number of requested results 6 is greater than number of elements in index 1, updating n_results = 1\n"
     ]
    },
    {
     "name": "stdout",
     "output_type": "stream",
     "text": [
      "\\Generating prompt for case 32 of 72\n",
      "\\Generating prompt for case 33 of 72\n",
      "\\Generating prompt for case 34 of 72\n",
      "\\Generating prompt for case 35 of 72\n"
     ]
    },
    {
     "name": "stderr",
     "output_type": "stream",
     "text": [
      "Number of requested results 6 is greater than number of elements in index 1, updating n_results = 1\n",
      "Number of requested results 6 is greater than number of elements in index 1, updating n_results = 1\n",
      "Number of requested results 6 is greater than number of elements in index 3, updating n_results = 3\n"
     ]
    },
    {
     "name": "stdout",
     "output_type": "stream",
     "text": [
      "\\Generating prompt for case 36 of 72\n"
     ]
    },
    {
     "name": "stderr",
     "output_type": "stream",
     "text": [
      "Number of requested results 6 is greater than number of elements in index 2, updating n_results = 2\n"
     ]
    },
    {
     "name": "stdout",
     "output_type": "stream",
     "text": [
      "\\Generating prompt for case 37 of 72\n"
     ]
    },
    {
     "name": "stderr",
     "output_type": "stream",
     "text": [
      "Number of requested results 6 is greater than number of elements in index 5, updating n_results = 5\n",
      "Number of requested results 6 is greater than number of elements in index 1, updating n_results = 1\n"
     ]
    },
    {
     "name": "stdout",
     "output_type": "stream",
     "text": [
      "\\Generating prompt for case 38 of 72\n",
      "\\Generating prompt for case 39 of 72\n",
      "\\Generating prompt for case 40 of 72\n",
      "\\Generating prompt for case 41 of 72\n",
      "\\Generating prompt for case 42 of 72\n"
     ]
    },
    {
     "name": "stderr",
     "output_type": "stream",
     "text": [
      "Number of requested results 6 is greater than number of elements in index 4, updating n_results = 4\n",
      "Number of requested results 6 is greater than number of elements in index 1, updating n_results = 1\n"
     ]
    },
    {
     "name": "stdout",
     "output_type": "stream",
     "text": [
      "\\Generating prompt for case 43 of 72\n"
     ]
    },
    {
     "name": "stderr",
     "output_type": "stream",
     "text": [
      "Number of requested results 6 is greater than number of elements in index 1, updating n_results = 1\n",
      "Number of requested results 6 is greater than number of elements in index 1, updating n_results = 1\n"
     ]
    },
    {
     "name": "stdout",
     "output_type": "stream",
     "text": [
      "\\Generating prompt for case 44 of 72\n"
     ]
    },
    {
     "name": "stderr",
     "output_type": "stream",
     "text": [
      "Number of requested results 6 is greater than number of elements in index 4, updating n_results = 4\n"
     ]
    },
    {
     "name": "stdout",
     "output_type": "stream",
     "text": [
      "\\Generating prompt for case 45 of 72\n",
      "\\Generating prompt for case 46 of 72\n"
     ]
    },
    {
     "name": "stderr",
     "output_type": "stream",
     "text": [
      "Number of requested results 6 is greater than number of elements in index 1, updating n_results = 1\n"
     ]
    },
    {
     "name": "stdout",
     "output_type": "stream",
     "text": [
      "\\Generating prompt for case 47 of 72\n",
      "\\Generating prompt for case 48 of 72\n",
      "\\Generating prompt for case 49 of 72\n",
      "\\Generating prompt for case 50 of 72\n",
      "\\Generating prompt for case 51 of 72\n",
      "\\Generating prompt for case 52 of 72\n",
      "\\Generating prompt for case 53 of 72\n",
      "\\Generating prompt for case 54 of 72\n",
      "\\Generating prompt for case 55 of 72\n",
      "\\Generating prompt for case 56 of 72\n",
      "\\Generating prompt for case 57 of 72\n",
      "\\Generating prompt for case 58 of 72\n",
      "\\Generating prompt for case 59 of 72\n"
     ]
    },
    {
     "name": "stderr",
     "output_type": "stream",
     "text": [
      "Number of requested results 6 is greater than number of elements in index 2, updating n_results = 2\n"
     ]
    },
    {
     "name": "stdout",
     "output_type": "stream",
     "text": [
      "\\Generating prompt for case 60 of 72\n"
     ]
    },
    {
     "name": "stderr",
     "output_type": "stream",
     "text": [
      "Number of requested results 6 is greater than number of elements in index 1, updating n_results = 1\n"
     ]
    },
    {
     "name": "stdout",
     "output_type": "stream",
     "text": [
      "\\Generating prompt for case 61 of 72\n"
     ]
    },
    {
     "name": "stderr",
     "output_type": "stream",
     "text": [
      "Number of requested results 6 is greater than number of elements in index 4, updating n_results = 4\n"
     ]
    },
    {
     "name": "stdout",
     "output_type": "stream",
     "text": [
      "\\Generating prompt for case 62 of 72\n"
     ]
    },
    {
     "name": "stderr",
     "output_type": "stream",
     "text": [
      "Number of requested results 6 is greater than number of elements in index 4, updating n_results = 4\n",
      "Number of requested results 6 is greater than number of elements in index 2, updating n_results = 2\n"
     ]
    },
    {
     "name": "stdout",
     "output_type": "stream",
     "text": [
      "\\Generating prompt for case 63 of 72\n",
      "\\Generating prompt for case 64 of 72\n",
      "\\Generating prompt for case 65 of 72\n",
      "\\Generating prompt for case 66 of 72\n",
      "\\Generating prompt for case 67 of 72\n",
      "\\Generating prompt for case 68 of 72\n"
     ]
    },
    {
     "name": "stderr",
     "output_type": "stream",
     "text": [
      "Number of requested results 6 is greater than number of elements in index 1, updating n_results = 1\n",
      "Number of requested results 6 is greater than number of elements in index 1, updating n_results = 1\n"
     ]
    },
    {
     "name": "stdout",
     "output_type": "stream",
     "text": [
      "\\Generating prompt for case 69 of 72\n",
      "\\Generating prompt for case 70 of 72\n",
      "\\Generating prompt for case 71 of 72\n"
     ]
    },
    {
     "name": "stderr",
     "output_type": "stream",
     "text": [
      "Number of requested results 6 is greater than number of elements in index 1, updating n_results = 1\n"
     ]
    },
    {
     "name": "stdout",
     "output_type": "stream",
     "text": [
      "\\Generating prompt for case 72 of 72\n"
     ]
    }
   ],
   "source": [
    "logs = d.get_prompt_logs(\"../variable_extraction/output/100_random_state/metadata.csv\")"
   ]
  },
  {
   "cell_type": "code",
   "execution_count": 29,
   "id": "4de0440d-b833-4b4e-8abe-f76046dfecbe",
   "metadata": {},
   "outputs": [],
   "source": [
    "with open(\"../variable_extraction/output/100_random_state/keyword_logs.pkl\", \"wb\") as f:\n",
    "    dill.dump(logs, f)"
   ]
  },
  {
   "cell_type": "markdown",
   "id": "f5f114ad-52d9-45ce-a4f3-df59756dfbb1",
   "metadata": {
    "jp-MarkdownHeadingCollapsed": true
   },
   "source": [
    "### Generate logs for manually-classified trial cases"
   ]
  },
  {
   "cell_type": "code",
   "execution_count": 17,
   "id": "f83b1abe-e2b1-40f2-939b-b2da3d5ca392",
   "metadata": {},
   "outputs": [
    {
     "name": "stdout",
     "output_type": "stream",
     "text": [
      "Generating prompt for case 1 of 15\n",
      "Generating prompt for case 2 of 15\n",
      "Generating prompt for case 3 of 15\n",
      "Generating prompt for case 4 of 15\n",
      "Generating prompt for case 5 of 15\n",
      "Generating prompt for case 6 of 15\n"
     ]
    },
    {
     "name": "stderr",
     "output_type": "stream",
     "text": [
      "Number of requested results 6 is greater than number of elements in index 3, updating n_results = 3\n"
     ]
    },
    {
     "name": "stdout",
     "output_type": "stream",
     "text": [
      "Generating prompt for case 7 of 15\n",
      "Generating prompt for case 8 of 15\n",
      "Generating prompt for case 9 of 15\n",
      "Generating prompt for case 10 of 15\n",
      "Generating prompt for case 11 of 15\n",
      "Generating prompt for case 12 of 15\n"
     ]
    },
    {
     "name": "stderr",
     "output_type": "stream",
     "text": [
      "Number of requested results 6 is greater than number of elements in index 1, updating n_results = 1\n"
     ]
    },
    {
     "name": "stdout",
     "output_type": "stream",
     "text": [
      "Generating prompt for case 13 of 15\n",
      "Generating prompt for case 14 of 15\n",
      "Generating prompt for case 15 of 15\n"
     ]
    },
    {
     "name": "stderr",
     "output_type": "stream",
     "text": [
      "Number of requested results 6 is greater than number of elements in index 1, updating n_results = 1\n"
     ]
    }
   ],
   "source": [
    "logs = d.get_prompt_logs(\"../variable_extraction/output/100_random_state/trial_category_key.csv\")"
   ]
  },
  {
   "cell_type": "code",
   "execution_count": 18,
   "id": "3a53d2d9-1a7c-4c59-bb96-022179b34307",
   "metadata": {},
   "outputs": [],
   "source": [
    "with open(\"../variable_extraction/output/100_random_state/true_trial_logs.pkl\", \"wb\") as f:\n",
    "    dill.dump(logs, f)"
   ]
  },
  {
   "cell_type": "markdown",
   "id": "0cfaab88-62ef-4c22-94f1-a8997de21e06",
   "metadata": {
    "jp-MarkdownHeadingCollapsed": true
   },
   "source": [
    "### Copy prompts to clipboard to classify with LLM"
   ]
  },
  {
   "cell_type": "code",
   "execution_count": 29,
   "id": "be8f64aa-3a77-41cd-8eaf-e2e3f3957031",
   "metadata": {},
   "outputs": [],
   "source": [
    "results = []"
   ]
  },
  {
   "cell_type": "code",
   "execution_count": 100,
   "id": "bf5f1238-bca8-40ec-bdbd-8a7a3c13f973",
   "metadata": {},
   "outputs": [],
   "source": [
    "index = 15"
   ]
  },
  {
   "cell_type": "code",
   "execution_count": 101,
   "id": "4d4d0690-1927-4392-921f-182570df5ba2",
   "metadata": {},
   "outputs": [
    {
     "ename": "IndexError",
     "evalue": "list index out of range",
     "output_type": "error",
     "traceback": [
      "\u001b[0;31m---------------------------------------------------------------------------\u001b[0m",
      "\u001b[0;31mIndexError\u001b[0m                                Traceback (most recent call last)",
      "Cell \u001b[0;32mIn[101], line 1\u001b[0m\n\u001b[0;32m----> 1\u001b[0m prompt \u001b[38;5;241m=\u001b[39m \u001b[43mlogs\u001b[49m\u001b[43m[\u001b[49m\u001b[43mindex\u001b[49m\u001b[43m]\u001b[49m\u001b[38;5;241m.\u001b[39mmetadata_classification[\u001b[38;5;124m\"\u001b[39m\u001b[38;5;124mfull_prompt\u001b[39m\u001b[38;5;124m\"\u001b[39m]\n\u001b[1;32m      2\u001b[0m subprocess\u001b[38;5;241m.\u001b[39mrun(\u001b[38;5;124m\"\u001b[39m\u001b[38;5;124mpbcopy\u001b[39m\u001b[38;5;124m\"\u001b[39m, text\u001b[38;5;241m=\u001b[39m\u001b[38;5;28;01mTrue\u001b[39;00m, \u001b[38;5;28minput\u001b[39m\u001b[38;5;241m=\u001b[39mprompt)\n",
      "\u001b[0;31mIndexError\u001b[0m: list index out of range"
     ]
    }
   ],
   "source": [
    "prompt = logs[index].metadata_classification[\"full_prompt\"]\n",
    "subprocess.run(\"pbcopy\", text=True, input=prompt)"
   ]
  },
  {
   "cell_type": "code",
   "execution_count": 97,
   "id": "ab2a07ae-494d-4f76-8fa6-c92c2aee7d6e",
   "metadata": {},
   "outputs": [
    {
     "data": {
      "text/plain": [
       "CompletedProcess(args='pbcopy', returncode=0)"
      ]
     },
     "execution_count": 97,
     "metadata": {},
     "output_type": "execute_result"
    }
   ],
   "source": [
    "prompt = logs[index].document_classification[\"full_prompt\"]\n",
    "subprocess.run(\"pbcopy\", text=True, input=prompt)"
   ]
  },
  {
   "cell_type": "code",
   "execution_count": 98,
   "id": "f1b3bbaa-020d-4dd7-abb7-0856d239eab5",
   "metadata": {
    "scrolled": true
   },
   "outputs": [],
   "source": [
    "response = {\"reasoning\": \"No document\", \"category\": \"undetermined\"}"
   ]
  },
  {
   "cell_type": "code",
   "execution_count": 99,
   "id": "727ad86a-80ab-45be-a3f8-e54757c0d575",
   "metadata": {},
   "outputs": [],
   "source": [
    "results.append(response)"
   ]
  },
  {
   "cell_type": "code",
   "execution_count": 103,
   "id": "c2293d82-8ee3-4078-8d08-8f3aad13dd19",
   "metadata": {},
   "outputs": [],
   "source": [
    "df = pd.DataFrame(results)"
   ]
  },
  {
   "cell_type": "code",
   "execution_count": 106,
   "id": "6051a9ab-70c5-4125-8957-3267ee3877ac",
   "metadata": {},
   "outputs": [],
   "source": [
    "df[\"metadata_path\"] = [log.metadata[\"metadata_path\"] for log in logs]"
   ]
  },
  {
   "cell_type": "code",
   "execution_count": 109,
   "id": "d5f94c62-c382-4fa1-9258-759c47b99a3f",
   "metadata": {},
   "outputs": [],
   "source": [
    "df.to_csv(\"../variable_extraction/output/100_random_state/results.csv\", index=False)"
   ]
  },
  {
   "cell_type": "code",
   "execution_count": 116,
   "id": "8803edde-f520-49ea-9bb2-e7ced8fac034",
   "metadata": {},
   "outputs": [
    {
     "name": "stdout",
     "output_type": "stream",
     "text": [
      "0\n",
      "1\n",
      "2\n",
      "3\n",
      "4\n",
      "5\n",
      "6\n",
      "7\n",
      "8\n",
      "9\n",
      "10\n",
      "11\n",
      "12\n",
      "13\n",
      "14\n"
     ]
    }
   ],
   "source": [
    "for i, row in df.iterrows():\n",
    "    print(i)"
   ]
  }
 ],
 "metadata": {
  "kernelspec": {
   "display_name": "venv Python",
   "language": "python",
   "name": "venv"
  },
  "language_info": {
   "codemirror_mode": {
    "name": "ipython",
    "version": 3
   },
   "file_extension": ".py",
   "mimetype": "text/x-python",
   "name": "python",
   "nbconvert_exporter": "python",
   "pygments_lexer": "ipython3",
   "version": "3.12.4"
  }
 },
 "nbformat": 4,
 "nbformat_minor": 5
}
