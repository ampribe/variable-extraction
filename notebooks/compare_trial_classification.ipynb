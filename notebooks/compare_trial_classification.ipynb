{
 "cells": [
  {
   "cell_type": "code",
   "execution_count": 1,
   "id": "d89ceebe-2526-4fb9-81e8-2d099ed76957",
   "metadata": {},
   "outputs": [],
   "source": [
    "import pandas as pd"
   ]
  },
  {
   "cell_type": "markdown",
   "id": "0c5bbd61-5d57-4abc-ac17-2396b21017a3",
   "metadata": {},
   "source": [
    "## Compare keyword trial classification versions"
   ]
  },
  {
   "cell_type": "markdown",
   "id": "2ce2e592-6abd-4a08-bea3-6bdb42c3101e",
   "metadata": {},
   "source": [
    "\"original_fed_metadata.csv\" is generated using the following trial filter:\n",
    "```\n",
    "words = [\"verdict\", \"opinion\", \"ruling\", \"judgement\", \"judgment\", \"trial\"]\n",
    "return any((word in text for word in words)) and \"trial\" in text\n",
    "```\n",
    "\"updated_fed_metadata.csv\" is generated using the following trial filter:\n",
    "```\n",
    "words = [\"verdict\", \"opinion\", \"ruling\", \"judgement\", \"judgment\", \"trial\"]\n",
    "        return any((word in text for word in words))\n",
    "```\n",
    "\"fed_trial_status_key.csv\" is manually labeled and only includes true positives. 0 = no trial, 1 = trial, 2 = summary judgement"
   ]
  },
  {
   "cell_type": "code",
   "execution_count": 2,
   "id": "0a0c8860-1ea3-4f81-ad53-67df977d5a52",
   "metadata": {},
   "outputs": [],
   "source": [
    "original_metadata = pd.read_csv(\"output/100_random_fed/original_fed_metadata.csv\")[[\"metadata_path\", \"trial\"]]\n",
    "updated_metadata = pd.read_csv(\"output/100_random_fed/updated_fed_metadata.csv\")[[\"metadata_path\", \"trial\"]]\n",
    "metadata_key = pd.read_csv(\"output/100_random_fed/fed_trial_status_key.csv\")[[\"metadata_path\", \"trial\"]]"
   ]
  },
  {
   "cell_type": "code",
   "execution_count": 3,
   "id": "cf551616-c6f0-41da-a1d8-d4712dcf176b",
   "metadata": {},
   "outputs": [],
   "source": [
    "metadata_key.trial = metadata_key.trial != 0"
   ]
  },
  {
   "cell_type": "code",
   "execution_count": 4,
   "id": "f5acb23a-a581-48a1-b2c1-b6bf2c7ce21b",
   "metadata": {},
   "outputs": [],
   "source": [
    "merged = pd.merge(metadata_key, original_metadata, on='metadata_path', how='inner')\n",
    "merged = merged.rename(columns={\"trial_x\": \"correct\", \"trial_y\": \"original\"})"
   ]
  },
  {
   "cell_type": "code",
   "execution_count": 5,
   "id": "9bc8ac4e-4731-40e1-94fd-b3d454132579",
   "metadata": {},
   "outputs": [],
   "source": [
    "merged = pd.merge(merged, updated_metadata, on='metadata_path', how='inner')"
   ]
  },
  {
   "cell_type": "code",
   "execution_count": 6,
   "id": "05b7fa56-bba8-4d63-b6a6-399853dbb591",
   "metadata": {},
   "outputs": [],
   "source": [
    "merged = merged.rename(columns={\"trial\": \"updated\"})"
   ]
  },
  {
   "cell_type": "code",
   "execution_count": 7,
   "id": "36cafa44-409b-46c7-bbe1-6839707c9923",
   "metadata": {},
   "outputs": [
    {
     "name": "stdout",
     "output_type": "stream",
     "text": [
      "Original Accuracy: 0.67\n",
      "Updated Accuracy: 0.46\n"
     ]
    }
   ],
   "source": [
    "print(f\"Original Accuracy: {(merged.correct == merged.original).mean().round(2)}\")\n",
    "print(f\"Updated Accuracy: {(merged.correct == merged.updated).mean().round(2)}\")"
   ]
  }
 ],
 "metadata": {
  "kernelspec": {
   "display_name": "venv Python",
   "language": "python",
   "name": "venv"
  },
  "language_info": {
   "codemirror_mode": {
    "name": "ipython",
    "version": 3
   },
   "file_extension": ".py",
   "mimetype": "text/x-python",
   "name": "python",
   "nbconvert_exporter": "python",
   "pygments_lexer": "ipython3",
   "version": "3.12.4"
  }
 },
 "nbformat": 4,
 "nbformat_minor": 5
}
