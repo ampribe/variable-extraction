{
 "cells": [
  {
   "cell_type": "code",
   "execution_count": 1,
   "id": "3f6d1c7f-9a76-48e9-bfdb-d0bdfbd7be5c",
   "metadata": {},
   "outputs": [],
   "source": [
    "import numpy as np\n",
    "import pandas as pd\n",
    "import os\n",
    "from utils.case_directory import CaseDirectory\n",
    "from utils.case_metadata import CaseMetadata\n",
    "from extractors.jury_ruling_classifier import JuryRulingClassifier\n",
    "from extractors.bench_ruling_classifier import BenchRulingClassifier"
   ]
  },
  {
   "cell_type": "code",
   "execution_count": 2,
   "id": "098c58b5-cd60-4fec-b0cc-df6d494fb787",
   "metadata": {},
   "outputs": [],
   "source": [
    "key = pd.read_csv(\"tests/fed_test_key.csv\")"
   ]
  },
  {
   "cell_type": "code",
   "execution_count": 10,
   "id": "e26dacdb-1048-456f-985f-cbcabb3f2175",
   "metadata": {},
   "outputs": [],
   "source": [
    "key[\"result\"] = \"\""
   ]
  },
  {
   "cell_type": "code",
   "execution_count": 16,
   "id": "4c708c49-c05d-49ad-849e-fa43d4f91694",
   "metadata": {},
   "outputs": [
    {
     "data": {
      "text/plain": [
       "path             100_random_fed/Illinois_Central_District_Court...\n",
       "text             1:04-cv-01118-JBM-JAG   # 93    Page 1 of 3   ...\n",
       "category                                                 plaintiff\n",
       "metadata_path    100_random_fed/Illinois_Central_District_Court...\n",
       "result                                                            \n",
       "Name: 6, dtype: object"
      ]
     },
     "execution_count": 16,
     "metadata": {},
     "output_type": "execute_result"
    }
   ],
   "source": [
    "row"
   ]
  },
  {
   "cell_type": "code",
   "execution_count": 15,
   "id": "3180cf0b-1417-4484-aa9d-5a7d8ee446ab",
   "metadata": {},
   "outputs": [
    {
     "name": "stdout",
     "output_type": "stream",
     "text": [
      "0\n",
      "1\n",
      "2\n",
      "3\n",
      "4\n",
      "5\n",
      "6\n"
     ]
    }
   ],
   "source": [
    "for i, row in key.iterrows():\n",
    "    key[i, \"result\"] = CaseDirectory."
   ]
  },
  {
   "cell_type": "code",
   "execution_count": 4,
   "id": "2745c48e-8162-4f64-8172-52b852f7d2fd",
   "metadata": {},
   "outputs": [],
   "source": [
    "d = JuryRulingClassifier(m)"
   ]
  },
  {
   "cell_type": "code",
   "execution_count": 5,
   "id": "67b79167-2678-47ef-8a90-add2fc97d73a",
   "metadata": {},
   "outputs": [
    {
     "name": "stdout",
     "output_type": "stream",
     "text": [
      "Extracting from metadata...\n",
      "- Getting relevant chunks...\n",
      "- Querying llm...\n"
     ]
    },
    {
     "data": {
      "text/plain": [
       "'defendant'"
      ]
     },
     "execution_count": 5,
     "metadata": {},
     "output_type": "execute_result"
    }
   ],
   "source": [
    "d.extract()"
   ]
  },
  {
   "cell_type": "code",
   "execution_count": 8,
   "id": "4c6c0752-a10a-4232-94b5-0b3f6d75e13b",
   "metadata": {},
   "outputs": [
    {
     "data": {
      "text/plain": [
       "'{\"reasoning\": \"According to the documents, summary judgment was entered in favor of Defendants Bailey\\'s Corporation, Uintah Fastener & Supply, Petzl Corporation, Petzl America, Brighton Best, Inc., and Porteous Fastener Co. as to all of Plaintiffs\\' claims. This shows that the jury ruled in favor of these defendants because the court granted their motion for summary judgment.\", \"category\": \"defendant\"}'"
      ]
     },
     "execution_count": 8,
     "metadata": {},
     "output_type": "execute_result"
    }
   ],
   "source": [
    "d.log.metadata_classification[\"llm_response_raw\"]"
   ]
  },
  {
   "cell_type": "code",
   "execution_count": 30,
   "id": "09dbe038-d7e4-4166-89ed-2d8ad4db07fc",
   "metadata": {},
   "outputs": [
    {
     "data": {
      "text/plain": [
       "dict_keys(['docs_before_chunking', 'chunks', 'chunks_after_keyword_filter', 'chunks_after_semantic_filter', 'docs_after_title_filter', 'llm_context', 'llm_response_raw', 'llm_response'])"
      ]
     },
     "execution_count": 30,
     "metadata": {},
     "output_type": "execute_result"
    }
   ],
   "source": [
    "d.log.metadata_classification.keys()"
   ]
  },
  {
   "cell_type": "code",
   "execution_count": 38,
   "id": "9c216b9c-bef6-4f16-bda0-c26dc30c609a",
   "metadata": {},
   "outputs": [
    {
     "name": "stdout",
     "output_type": "stream",
     "text": [
      "Case 1:16-cv-00395-RMB-JS   Document 353   Filed 11/19/19   Page 1 of 2 PageID: 5783\n",
      "[Docket Items 184, 186, 193, 326, 338]\n",
      "IN THE UNITED STATES DISTRICT\n",
      "FOR THE DISTRICT OF NEW JERSEY\n",
      "NICHOLAS KUHAR, et al.,\n",
      "Plaintiffs,\n",
      "v.\n",
      "PETZL COMPANY, d/b/a PETZEL;\n",
      "et al.,\n",
      "Defendants.\n",
      "HONORABLE RENEE IVIARIE BUMB\n",
      "Civil Action\n",
      "No. 16-395 (RMB/JS)\n",
      "ORDER\n",
      "This matter\n",
      "comes before the Court upon the Report\n",
      "and\n",
      "Recommendation of\n",
      "the Honorable Joel Schneider, U.S. Magistrate\n",
      "Judge entered October 21, 2019 [Docket Item 338] , which recommended\n",
      "that the Motions for Summary Judgment filed by Defendants Bailey’s\n",
      "Corporation, Uintah Fastener & Supply, Petzl Corporation and Petzl\n",
      "America,\n",
      "and by Brighton Best,\n",
      "Inc.\n",
      "and Porteous Fastener Co.\n",
      "[Docket Items 184, 186, 193 and 326] be granted in their entirety\n",
      "and that\n",
      "summary judgment be entered in favor of all aforenamed\n",
      "defendants; objections to the Report and Recommendation having\n",
      "been received as well as\n",
      "responses\n",
      "thereto;\n",
      "the Court having\n",
      "independently\n",
      "reviewed\n",
      "the\n",
      "record\n",
      "and\n",
      "the\n",
      "Report\n",
      "and\n",
      "Recommendation,\n",
      "and having considered the\n",
      "submissions of\n",
      "the\n",
      "parties; and for the reasons set forth in the Memorandum Opinion\n",
      "of today’s date,\n",
      "\f",
      "\n",
      "\f",
      "\n",
      "Case 1:16-cv-00395-RMB-JS   Document 353   Filed 11/19/19   Page 2 of 2 PageID: 5784\n",
      "IT IS this\n",
      "19th\n",
      "day of\n",
      "November\n",
      ", 2019 hereby\n",
      "ORDERED\n",
      "that\n",
      "this Court\n",
      "hereby ADOPTS\n",
      "the Report\n",
      "and\n",
      "Recommendation of\n",
      "the Honorable Joel Schneider, U.S. Magistrate\n",
      "Judge entered October 21, 2019 [Docket Item 338] ; and it is further\n",
      "ORDERED that\n",
      "summary judgment shall be entered in favor of\n",
      "Defendants Bailey’s Corporation, Uintah Fastener & Supply, Petzl\n",
      "Corporation, Petzl America, Brighton Best,\n",
      "Inc.,\n",
      "and Porteous\n",
      "Fastener Co. as to all of Plaintiffs’ claims; and it is further\n",
      "ORDERED that the Clerk of Court shall CLOSE this case.\n",
      "s/ Renée Marie Bu.mb\n",
      "RENEE MARIE BUMB\n",
      "United States District Judge\n",
      "2\n",
      "\f",
      "\n"
     ]
    }
   ],
   "source": [
    "print(d.log.metadata_classification[\"docs_after_title_filter\"][1])"
   ]
  },
  {
   "cell_type": "code",
   "execution_count": 42,
   "id": "e2f5bbde-ae83-4e1f-a52c-a4d8787e6020",
   "metadata": {},
   "outputs": [
    {
     "name": "stdout",
     "output_type": "stream",
     "text": [
      "and Porteous Fastener Co.\n",
      "[Docket Items 184, 186, 193 and 326] be granted in their entirety\n",
      "and that\n",
      "summary judgment be entered in favor of all aforenamed\n",
      "defendants; objections to the Report and Recommendation having\n",
      "been received as well as\n",
      "responses\n",
      "thereto;\n",
      "the Court having\n",
      "independently\n",
      "reviewed\n",
      "the\n",
      "record\n",
      "and\n",
      "the\n",
      "Report\n",
      "and\n",
      "Recommendation,\n",
      "and having considered the\n",
      "submissions of\n",
      "the\n",
      "parties; and for the reasons set forth in the Memorandum Opinion\n",
      "of today’s date,\n",
      "\f",
      "\n",
      "\f",
      "\n",
      "Case 1:16-cv-00395-RMB-JS   Document 353   Filed 11/19/19   Page 2 of 2 PageID: 5784\n",
      "IT IS this\n",
      "19th\n",
      "day of\n",
      "November\n",
      ", 2019 hereby\n",
      "ORDERED\n",
      "that\n",
      "this Court\n",
      "hereby ADOPTS\n",
      "the Report\n",
      "and\n",
      "Recommendation of\n"
     ]
    }
   ],
   "source": [
    "print(d.log.metadata_classification[\"chunks\"][3])"
   ]
  },
  {
   "cell_type": "code",
   "execution_count": 8,
   "id": "808975f3-0e98-441c-b47e-49725c793d1d",
   "metadata": {},
   "outputs": [
    {
     "name": "stdout",
     "output_type": "stream",
     "text": [
      "ORDER ADOPTING 337 REPORT AND RECOMMENDATIONS for 183 Motion for Summary Judgment. ORDERED that summary judgment shall be entered in favor of Defendant Quality Plating as to all of Plaintiffs' claims and all cross-claims. Signed by Judge Renee Marie Bumb on 10/31/2019. (dmr) (Entered: 10/31/2019)\n"
     ]
    }
   ],
   "source": [
    "print(d.log.metadata_classification[\"chunks_after_keyword_filter\"][2])"
   ]
  }
 ],
 "metadata": {
  "kernelspec": {
   "display_name": "Python 3 (ipykernel)",
   "language": "python",
   "name": "python3"
  },
  "language_info": {
   "codemirror_mode": {
    "name": "ipython",
    "version": 3
   },
   "file_extension": ".py",
   "mimetype": "text/x-python",
   "name": "python",
   "nbconvert_exporter": "python",
   "pygments_lexer": "ipython3",
   "version": "3.12.4"
  }
 },
 "nbformat": 4,
 "nbformat_minor": 5
}
