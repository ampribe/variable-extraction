{
 "cells": [
  {
   "cell_type": "markdown",
   "id": "eec3b257-55db-45c8-a5a3-bb112913283b",
   "metadata": {},
   "source": [
    "### To Do"
   ]
  },
  {
   "cell_type": "markdown",
   "id": "85ee674f-bac0-480b-936f-d603d2d138c6",
   "metadata": {},
   "source": [
    "1. Make it easier to visualize jury trials/extract jury trial results and do the same for other variables\n",
    "2. Make sure context + system prompt fits in context window\n",
    "3. Add helper function to manually label\n",
    "4. Add reranking algorithm\n",
    "\n",
    "Reranking\n",
    "- https://adasci.org/a-hands-on-guide-to-enhance-rag-with-re-ranking/\n",
    "- https://techcommunity.microsoft.com/t5/microsoft-developer-community/doing-rag-vector-search-is-not-enough/ba-p/4161073\n",
    "- https://community.openai.com/t/bad-formats-for-semantic-search-of-rag-implementing-internal-chatbot-for-troubleshooting-an-sdk/848715\n",
    "- https://learn.microsoft.com/en-us/azure/search/index-similarity-and-scoring\n",
    "- https://cohere.com/blog/rerank-3\n",
    "- https://www.reddit.com/r/LocalLLaMA/comments/1d9h2pg/doing_rag_vector_search_is_not_enough/\n",
    "- https://www.datacamp.com/tutorial/boost-llm-accuracy-retrieval-augmented-generation-rag-reranking\n",
    "- https://python.langchain.com/v0.2/docs/integrations/retrievers/flashrank-reranker/\n",
    "\n",
    "RAG\n",
    "- https://ollama.com/blog/embedding-models\n",
    "- https://huggingface.co/learn/nlp-course/chapter5/6\n",
    "- https://docs.mistral.ai/guides/rag/\n",
    "- https://docs.trychroma.com/guides"
   ]
  },
  {
   "cell_type": "code",
   "execution_count": 1,
   "id": "78603214-52ba-4f75-a299-b912d9cafe0d",
   "metadata": {},
   "outputs": [],
   "source": [
    "import numpy as np\n",
    "import pandas as pd\n",
    "import os\n",
    "from utils.case_directory import CaseDirectory\n",
    "from utils.case_metadata import CaseMetadata\n",
    "from extractors.jury_ruling_classifier import JuryRulingClassifier"
   ]
  },
  {
   "cell_type": "markdown",
   "id": "112f5b96-cc20-44ab-9f20-bfe5a9263694",
   "metadata": {},
   "source": [
    "### DF"
   ]
  },
  {
   "cell_type": "code",
   "execution_count": 4,
   "id": "c6cc321d-7a00-4cbd-8945-78e805a327dc",
   "metadata": {},
   "outputs": [],
   "source": []
  },
  {
   "cell_type": "code",
   "execution_count": 8,
   "id": "db37072f-af55-446a-9d50-a4b878160bff",
   "metadata": {},
   "outputs": [
    {
     "data": {
      "text/plain": [
       "['workdata/100_random_sample/New_York_State_Suffolk_County_Supreme_Court/602235---2016/metadata.json',\n",
       " 'workdata/100_random_sample/Delaware_District_Court/1--21-cv-01238/metadata.json',\n",
       " 'workdata/100_random_sample/Massachusetts_State_Superior_Court_Essex_County/1777CV00789/metadata.json',\n",
       " 'workdata/100_random_sample/Connecticut_State_Superior_Court/HHD-CV17-6080452-S/metadata.json',\n",
       " 'workdata/100_random_sample/Connecticut_State_Superior_Court/UWY-CV22-6068059-S/metadata.json']"
      ]
     },
     "execution_count": 8,
     "metadata": {},
     "output_type": "execute_result"
    }
   ],
   "source": []
  },
  {
   "cell_type": "markdown",
   "id": "1bb636a1-a5ce-40ed-b46f-dabf357c69d2",
   "metadata": {},
   "source": [
    "### Test JuryRulingClassifier"
   ]
  },
  {
   "cell_type": "code",
   "execution_count": 2,
   "id": "11520df8-5603-41db-9798-32603f67e29b",
   "metadata": {},
   "outputs": [],
   "source": []
  },
  {
   "cell_type": "code",
   "execution_count": 5,
   "id": "92761932-440b-4430-9afa-248c0911a1c3",
   "metadata": {},
   "outputs": [
    {
     "name": "stderr",
     "output_type": "stream",
     "text": [
      "/Users/andrew/Downloads/summer_internship/Variable_Extraction/utils/case_metadata.py:139: MarkupResemblesLocatorWarning: The input looks more like a filename than markup. You may want to open this file and pass the filehandle into Beautiful Soup.\n",
      "  lambda html: BeautifulSoup(html, features=\"html.parser\").text\n"
     ]
    },
    {
     "data": {
      "text/plain": [
       "['Jury Selection / Trial - Proceeding',\n",
       " 'ORDER RESULT: Granted 3/28/2019 HON DAVID SHERIDAN',\n",
       " 'TRIAL MANAGEMENT REPORT',\n",
       " 'MOTION FOR ORDER Motion to Compel Deposition',\n",
       " 'ORDER RESULT: Sustained 12/3/2018 HON SUSAN COBB',\n",
       " 'MOTION FOR ORDER OF COMPLIANCE – PB SEC 13-14 (INTERR/PROD – 13-6/13-9)',\n",
       " 'MOTION FOR ORDER OF COMPLIANCE – PB SEC 13-14 (INTERR/PROD – 13-6/13-9)',\n",
       " 'ORDER RESULT: Granted 10/16/2018 HON DAVID SHERIDAN',\n",
       " 'ORDER RESULT: Order 10/16/2018 HON CONSTANCE EPSTEIN',\n",
       " 'MOTION FOR ORDER Motion to Compel Deposition RESULT: Order 10/16/2018 HON CONSTANCE EPSTEIN',\n",
       " 'ORDER RESULT: Order 10/16/2018 HON CONSTANCE EPSTEIN',\n",
       " 'MOTION FOR ORDER OF COMPLIANCE – PB SEC 13-14 (INTERR/PROD – 13-6/13-9) RESULT: Withdrawn 10/4/2018 BY THE DEFENDANT Last Updated:\\xa0 Result Information - 10/29/2018',\n",
       " 'CERTIFICATE OF CLOSED PLEADINGS AND CLAIM FOR TRIAL LIST',\n",
       " 'ORDER RESULT: Granted 6/26/2018 HON SUSAN COBB',\n",
       " 'ORDER TMC Order RESULT: Order 10/19/2017 BY THE COURT',\n",
       " 'ORDER RESULT: Order 10/19/2017 BY THE COURT',\n",
       " 'SCHEDULING ORDER BY AGREEMENT C50,T02,T03,T11,T12,T61,V01,V04, V09 CASES RESULT: Order 10/19/2017 BY THE COURT']"
      ]
     },
     "execution_count": 5,
     "metadata": {},
     "output_type": "execute_result"
    }
   ],
   "source": [
    "[s for s in classifier.metadata.get_docket_report_contents() if classifier.title_filter(s)]"
   ]
  },
  {
   "cell_type": "code",
   "execution_count": 3,
   "id": "083774db-4d2f-449a-b53d-1c59133f1fc9",
   "metadata": {},
   "outputs": [
    {
     "name": "stdout",
     "output_type": "stream",
     "text": [
      "Extracting from metadata...\n",
      "- Getting relevant chunks...\n"
     ]
    },
    {
     "name": "stderr",
     "output_type": "stream",
     "text": [
      "/Users/andrew/Downloads/summer_internship/Variable_Extraction/utils/case_metadata.py:139: MarkupResemblesLocatorWarning: The input looks more like a filename than markup. You may want to open this file and pass the filehandle into Beautiful Soup.\n",
      "  lambda html: BeautifulSoup(html, features=\"html.parser\").text\n",
      "Number of requested results 8 is greater than number of elements in index 1, updating n_results = 1\n"
     ]
    },
    {
     "name": "stdout",
     "output_type": "stream",
     "text": [
      "- Querying llm...\n",
      "- Response: {'reasoning': 'The documents describe a Motion for Order of Compliance, which was withdrawn by the defendant. This does not identify the result of the jury trial.', 'category': 'undetermined'}\n",
      "Extracting from documents...\n",
      "- Getting relevant chunks...\n"
     ]
    },
    {
     "name": "stderr",
     "output_type": "stream",
     "text": [
      "/Users/andrew/Downloads/summer_internship/Variable_Extraction/utils/case_metadata.py:139: MarkupResemblesLocatorWarning: The input looks more like a filename than markup. You may want to open this file and pass the filehandle into Beautiful Soup.\n",
      "  lambda html: BeautifulSoup(html, features=\"html.parser\").text\n"
     ]
    },
    {
     "name": "stdout",
     "output_type": "stream",
     "text": [
      "- Response: {'category': 'undetermined'}\n"
     ]
    },
    {
     "data": {
      "text/plain": [
       "({'category': 'undetermined'},\n",
       " {'metadata_response': {'reasoning': 'The documents describe a Motion for Order of Compliance, which was withdrawn by the defendant. This does not identify the result of the jury trial.',\n",
       "   'category': 'undetermined'},\n",
       "  'metadata_context': 'MOTION FOR ORDER OF COMPLIANCE – PB SEC 13-14 (INTERR/PROD – 13-6/13-9) RESULT: Withdrawn 10/4/2018 BY THE DEFENDANT Last Updated:\\xa0 Result Information - 10/29/2018',\n",
       "  'document_response': {'category': 'undetermined'},\n",
       "  'document_context': 'No relevant documents'})"
      ]
     },
     "execution_count": 3,
     "metadata": {},
     "output_type": "execute_result"
    }
   ],
   "source": [
    "classifier.extract()"
   ]
  }
 ],
 "metadata": {
  "kernelspec": {
   "display_name": "Python 3 (ipykernel)",
   "language": "python",
   "name": "python3"
  },
  "language_info": {
   "codemirror_mode": {
    "name": "ipython",
    "version": 3
   },
   "file_extension": ".py",
   "mimetype": "text/x-python",
   "name": "python",
   "nbconvert_exporter": "python",
   "pygments_lexer": "ipython3",
   "version": "3.12.4"
  }
 },
 "nbformat": 4,
 "nbformat_minor": 5
}
