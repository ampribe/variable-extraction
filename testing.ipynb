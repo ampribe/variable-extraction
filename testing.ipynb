{
 "cells": [
  {
   "cell_type": "markdown",
   "id": "24201d4c-1310-4793-a5fb-4ca363102ee6",
   "metadata": {},
   "source": [
    "### To do"
   ]
  },
  {
   "cell_type": "markdown",
   "id": "22406cc3-67c1-49f4-866f-374d79b0144d",
   "metadata": {},
   "source": [
    "1. Make it easier to visualize jury trials/extract jury trial results and do the same for other variables\n",
    "2. Add reranking algorithm\n",
    "3. Add helper function to manually label\n",
    "\n",
    "Reranking\n",
    "- https://adasci.org/a-hands-on-guide-to-enhance-rag-with-re-ranking/\n",
    "- https://techcommunity.microsoft.com/t5/microsoft-developer-community/doing-rag-vector-search-is-not-enough/ba-p/4161073\n",
    "- https://community.openai.com/t/bad-formats-for-semantic-search-of-rag-implementing-internal-chatbot-for-troubleshooting-an-sdk/848715\n",
    "- https://learn.microsoft.com/en-us/azure/search/index-similarity-and-scoring\n",
    "- https://cohere.com/blog/rerank-3\n",
    "- https://www.reddit.com/r/LocalLLaMA/comments/1d9h2pg/doing_rag_vector_search_is_not_enough/\n",
    "- https://www.datacamp.com/tutorial/boost-llm-accuracy-retrieval-augmented-generation-rag-reranking\n",
    "- https://python.langchain.com/v0.2/docs/integrations/retrievers/flashrank-reranker/\n",
    "\n",
    "RAG\n",
    "- https://ollama.com/blog/embedding-models\n",
    "- https://huggingface.co/learn/nlp-course/chapter5/6\n",
    "- https://docs.mistral.ai/guides/rag/\n",
    "- https://docs.trychroma.com/guides"
   ]
  },
  {
   "cell_type": "markdown",
   "id": "e73b08b9-677f-417c-8785-4bc30af80cdc",
   "metadata": {},
   "source": [
    "### Code"
   ]
  },
  {
   "cell_type": "code",
   "execution_count": 1,
   "id": "3ff2f657-a728-4ebb-af7b-7195c65066d6",
   "metadata": {},
   "outputs": [],
   "source": [
    "import numpy as np\n",
    "import pandas as pd\n",
    "import os\n",
    "from utils.case_directory import CaseDirectory\n",
    "from utils.case_metadata import CaseMetadata\n",
    "from extractors.jury_ruling_classifier import JuryRulingClassifier"
   ]
  },
  {
   "cell_type": "code",
   "execution_count": 2,
   "id": "f7b0d3b5-f047-4ed5-96fb-30442de79ca8",
   "metadata": {},
   "outputs": [
    {
     "data": {
      "text/plain": [
       "['workdata/100_random_sample/New_York_State_Suffolk_County_Supreme_Court/602235---2016/metadata.json',\n",
       " 'workdata/100_random_sample/Delaware_District_Court/1--21-cv-01238/metadata.json',\n",
       " 'workdata/100_random_sample/Massachusetts_State_Superior_Court_Essex_County/1777CV00789/metadata.json',\n",
       " 'workdata/100_random_sample/Connecticut_State_Superior_Court/HHD-CV17-6080452-S/metadata.json',\n",
       " 'workdata/100_random_sample/Connecticut_State_Superior_Court/UWY-CV22-6068059-S/metadata.json']"
      ]
     },
     "execution_count": 2,
     "metadata": {},
     "output_type": "execute_result"
    }
   ],
   "source": [
    "df = pd.read_csv(\"labeled_cases.csv\")\n",
    "df[df.trial_type == \"jury\"].metadata_path.tolist()"
   ]
  },
  {
   "cell_type": "code",
   "execution_count": 3,
   "id": "1539322a-99e9-4c2a-a356-71e0df5eb273",
   "metadata": {},
   "outputs": [
    {
     "data": {
      "text/plain": [
       "['workdata/100_random_sample/Florida_State_Broward_County_Seventeenth_Circuit_Court/CACE15005896/metadata.json',\n",
       " 'workdata/100_random_sample/New_York_Southern_District_Court/1--05-cv-06677/metadata.json',\n",
       " 'workdata/100_random_sample/Texas_Northern_District_Court/2--07-cv-00142/metadata.json',\n",
       " 'workdata/100_random_sample/Massachusetts_District_Court/1--14-cv-14176/metadata.json',\n",
       " 'workdata/100_random_sample/California_State_Court_of_Appeals_Second_District/B232339/metadata.json',\n",
       " 'workdata/100_random_sample/North_Carolina_Western_District_Court/2--12-cr-00007/metadata.json',\n",
       " 'workdata/100_random_sample/California_State_San_Francisco_County_Superior_Court/CGC-05-439929/metadata.json',\n",
       " 'workdata/100_random_sample/Washington_State_Pierce_County_Superior_Court/09-2-16353-2/metadata.json',\n",
       " 'workdata/100_random_sample/Illinois_Northern_District_Court/1--21-cv-05336/metadata.json',\n",
       " 'workdata/100_random_sample/US_Court_of_Appeals_Ninth_Circuit_BAP/22-1214/metadata.json']"
      ]
     },
     "execution_count": 3,
     "metadata": {},
     "output_type": "execute_result"
    }
   ],
   "source": [
    "df[df.trial_type == \"bench\"].metadata_path.tolist()"
   ]
  },
  {
   "cell_type": "code",
   "execution_count": 11,
   "id": "e5b0e712-1b76-4d7a-9841-c8f0f3b9d3e2",
   "metadata": {},
   "outputs": [],
   "source": [
    "path = '100_random_sample/Massachusetts_State_Superior_Court_Essex_County/1777CV00789/metadata.json'\n",
    "classifier = JuryRulingClassifier(path, language_model=\"llama3\")"
   ]
  },
  {
   "cell_type": "code",
   "execution_count": 12,
   "id": "d3a5d429-92ca-4ddf-b3f3-e5a7f064401f",
   "metadata": {},
   "outputs": [
    {
     "name": "stdout",
     "output_type": "stream",
     "text": [
      "Extracting from metadata...\n",
      "- Getting relevant chunks...\n"
     ]
    },
    {
     "name": "stderr",
     "output_type": "stream",
     "text": [
      "/Users/andrew/Downloads/summer_internship/Variable_Extraction/utils/case_metadata.py:139: MarkupResemblesLocatorWarning: The input looks more like a filename than markup. You may want to open this file and pass the filehandle into Beautiful Soup.\n",
      "  lambda html: BeautifulSoup(html, features=\"html.parser\").text\n"
     ]
    },
    {
     "name": "stdout",
     "output_type": "stream",
     "text": [
      "- Querying llm...\n",
      "- Response: {'reasoning': \"According to the documents, SUMMARY JUDGMENT for Defendant(s) was granted. This shows that the jury ruled in favor of the defendant because the plaintiff's claims were dismissed.\", 'category': 'defendant'}\n"
     ]
    },
    {
     "data": {
      "text/plain": [
       "{'reasoning': \"According to the documents, SUMMARY JUDGMENT for Defendant(s) was granted. This shows that the jury ruled in favor of the defendant because the plaintiff's claims were dismissed.\",\n",
       " 'category': 'defendant'}"
      ]
     },
     "execution_count": 12,
     "metadata": {},
     "output_type": "execute_result"
    }
   ],
   "source": [
    "classifier.extract()"
   ]
  },
  {
   "cell_type": "code",
   "execution_count": 14,
   "id": "4b531d03-9c72-4d99-bbbd-aec0e64f1286",
   "metadata": {},
   "outputs": [
    {
     "data": {
      "text/plain": [
       "\"SUMMARY JUDGMENT for Defendant(s), Frank Cousins, Jr. Individually and in his/her capacity Sheriff of the Essex County Sheriff's Department against Plaintiff(s), Cory Mathieson, without statutory costs.It is ORDERED and ADJUDGED: That the plaintiff's claims for violation of the Whistleblower Act (Count I), insofar as the claim is asserted against Sheriff Cousins individually, and as to his claim for violation of the MCRA (Count II), be and hereby are DISMISSED.||Plaintiff, Defendants Cory Mathieson, Essex County Sheriff's Department, Frank Cousins, Jr. Individually and in his/her capacity Sheriff of the Essex County Sheriff's Department's Motion to continue / reschedule an event 11/05/2019 02:00 PM Final Pre-Trial Conference||Docket Note: Court, Judge Charles Barrett, took no action on the parties' Joint Motion to Continue Trial and wants the parties to appear at the Final Trial Conference on 7/19/22 to review the matter and to consider the motion with the parties on the record. Clerk Cornelio contacted both Plaintiff and Defense Counsel and relayed this information.||Plaintiff, Defendants Cory Mathieson, Essex County Sheriff's Department, Frank Cousins, Jr. Individually and in his/her capacity Sheriff of the Essex County Sheriff's Department's Joint Motion to continue / reschedule an event 11/02/2021 09:00 AM Jury Trial||Plaintiff Cory Mathieson's Joint Motion for Pre-Trial Conference be conducted via Zoom||Plaintiff Cory Mathieson's Joint Motion to continue / reschedule an event 07/27/2022 09:00 AM Jury Trial for 60 days||Plaintiff Cory Mathieson's Joint Motion to Conduct Final Pre-Trial Conference Via Zoom||Defendants Essex County Sheriff's Department, Frank Cousins, Jr. Individually and in his/her capacity Sheriff of the Essex County Sheriff's Department's Assented to Motion to continue / reschedule an event 10/10/2019 02:00 PM Final Pre-Trial Conference\""
      ]
     },
     "execution_count": 14,
     "metadata": {},
     "output_type": "execute_result"
    }
   ],
   "source": [
    "classifier.log[\"metadata_context\"]"
   ]
  },
  {
   "cell_type": "code",
   "execution_count": 15,
   "id": "98b93b12-6df7-44fa-bcec-8cd19a7f5edd",
   "metadata": {},
   "outputs": [
    {
     "name": "stderr",
     "output_type": "stream",
     "text": [
      "/Users/andrew/Downloads/summer_internship/Variable_Extraction/utils/case_metadata.py:139: MarkupResemblesLocatorWarning: The input looks more like a filename than markup. You may want to open this file and pass the filehandle into Beautiful Soup.\n",
      "  lambda html: BeautifulSoup(html, features=\"html.parser\").text\n"
     ]
    },
    {
     "data": {
      "text/html": [
       "<div>\n",
       "<style scoped>\n",
       "    .dataframe tbody tr th:only-of-type {\n",
       "        vertical-align: middle;\n",
       "    }\n",
       "\n",
       "    .dataframe tbody tr th {\n",
       "        vertical-align: top;\n",
       "    }\n",
       "\n",
       "    .dataframe thead th {\n",
       "        text-align: right;\n",
       "    }\n",
       "</style>\n",
       "<table border=\"1\" class=\"dataframe\">\n",
       "  <thead>\n",
       "    <tr style=\"text-align: right;\">\n",
       "      <th></th>\n",
       "      <th>date</th>\n",
       "      <th>contents</th>\n",
       "      <th>court</th>\n",
       "      <th>link_viewer</th>\n",
       "      <th>link</th>\n",
       "      <th>docket</th>\n",
       "      <th>document_path</th>\n",
       "    </tr>\n",
       "  </thead>\n",
       "  <tbody>\n",
       "    <tr>\n",
       "      <th>0</th>\n",
       "      <td>2022-11-15</td>\n",
       "      <td>Event Judge: Karp, Hon. JeffreySession: Civil ...</td>\n",
       "      <td>NaN</td>\n",
       "      <td>NaN</td>\n",
       "      <td>NaN</td>\n",
       "      <td>NaN</td>\n",
       "      <td></td>\n",
       "    </tr>\n",
       "    <tr>\n",
       "      <th>1</th>\n",
       "      <td>2022-11-08</td>\n",
       "      <td>Event Judge: Karp, Hon. JeffreySession: Civil ...</td>\n",
       "      <td>NaN</td>\n",
       "      <td>NaN</td>\n",
       "      <td>NaN</td>\n",
       "      <td>NaN</td>\n",
       "      <td></td>\n",
       "    </tr>\n",
       "    <tr>\n",
       "      <th>2</th>\n",
       "      <td>2022-07-27</td>\n",
       "      <td>Event Judge: Barrett, Hon. C. WilliamSession: ...</td>\n",
       "      <td>NaN</td>\n",
       "      <td>NaN</td>\n",
       "      <td>NaN</td>\n",
       "      <td>NaN</td>\n",
       "      <td></td>\n",
       "    </tr>\n",
       "    <tr>\n",
       "      <th>3</th>\n",
       "      <td>2022-07-26</td>\n",
       "      <td>Event Judge: Barrett, Hon. C. WilliamSession: ...</td>\n",
       "      <td>NaN</td>\n",
       "      <td>NaN</td>\n",
       "      <td>NaN</td>\n",
       "      <td>NaN</td>\n",
       "      <td></td>\n",
       "    </tr>\n",
       "    <tr>\n",
       "      <th>4</th>\n",
       "      <td>2022-07-20</td>\n",
       "      <td>Endorsement on Motion to Continue Trial for 60...</td>\n",
       "      <td>Massachusetts State, Superior Court, Essex County</td>\n",
       "      <td>https://www.docketalarm.com/cases/Massachusett...</td>\n",
       "      <td>https://www.docketalarm.com/cases/Massachusett...</td>\n",
       "      <td>1777CV00789</td>\n",
       "      <td></td>\n",
       "    </tr>\n",
       "    <tr>\n",
       "      <th>...</th>\n",
       "      <td>...</td>\n",
       "      <td>...</td>\n",
       "      <td>...</td>\n",
       "      <td>...</td>\n",
       "      <td>...</td>\n",
       "      <td>...</td>\n",
       "      <td>...</td>\n",
       "    </tr>\n",
       "    <tr>\n",
       "      <th>115</th>\n",
       "      <td>2017-05-30</td>\n",
       "      <td>Tickler: DiscoveryStart Date: 05/30/2017Due Da...</td>\n",
       "      <td>NaN</td>\n",
       "      <td>NaN</td>\n",
       "      <td>NaN</td>\n",
       "      <td>NaN</td>\n",
       "      <td></td>\n",
       "    </tr>\n",
       "    <tr>\n",
       "      <th>116</th>\n",
       "      <td>2017-05-30</td>\n",
       "      <td>Tickler: Rule 56 Served ByStart Date: 05/30/20...</td>\n",
       "      <td>NaN</td>\n",
       "      <td>NaN</td>\n",
       "      <td>NaN</td>\n",
       "      <td>NaN</td>\n",
       "      <td></td>\n",
       "    </tr>\n",
       "    <tr>\n",
       "      <th>117</th>\n",
       "      <td>2017-05-30</td>\n",
       "      <td>Tickler: Rule 56 Filed ByStart Date: 05/30/201...</td>\n",
       "      <td>NaN</td>\n",
       "      <td>NaN</td>\n",
       "      <td>NaN</td>\n",
       "      <td>NaN</td>\n",
       "      <td></td>\n",
       "    </tr>\n",
       "    <tr>\n",
       "      <th>118</th>\n",
       "      <td>2017-05-30</td>\n",
       "      <td>Tickler: Final Pre-Trial ConferenceStart Date:...</td>\n",
       "      <td>NaN</td>\n",
       "      <td>NaN</td>\n",
       "      <td>NaN</td>\n",
       "      <td>NaN</td>\n",
       "      <td></td>\n",
       "    </tr>\n",
       "    <tr>\n",
       "      <th>119</th>\n",
       "      <td>2017-05-30</td>\n",
       "      <td>Tickler: JudgmentStart Date: 05/30/2017Due Dat...</td>\n",
       "      <td>NaN</td>\n",
       "      <td>NaN</td>\n",
       "      <td>NaN</td>\n",
       "      <td>NaN</td>\n",
       "      <td></td>\n",
       "    </tr>\n",
       "  </tbody>\n",
       "</table>\n",
       "<p>120 rows × 7 columns</p>\n",
       "</div>"
      ],
      "text/plain": [
       "          date                                           contents  \\\n",
       "0   2022-11-15  Event Judge: Karp, Hon. JeffreySession: Civil ...   \n",
       "1   2022-11-08  Event Judge: Karp, Hon. JeffreySession: Civil ...   \n",
       "2   2022-07-27  Event Judge: Barrett, Hon. C. WilliamSession: ...   \n",
       "3   2022-07-26  Event Judge: Barrett, Hon. C. WilliamSession: ...   \n",
       "4   2022-07-20  Endorsement on Motion to Continue Trial for 60...   \n",
       "..         ...                                                ...   \n",
       "115 2017-05-30  Tickler: DiscoveryStart Date: 05/30/2017Due Da...   \n",
       "116 2017-05-30  Tickler: Rule 56 Served ByStart Date: 05/30/20...   \n",
       "117 2017-05-30  Tickler: Rule 56 Filed ByStart Date: 05/30/201...   \n",
       "118 2017-05-30  Tickler: Final Pre-Trial ConferenceStart Date:...   \n",
       "119 2017-05-30  Tickler: JudgmentStart Date: 05/30/2017Due Dat...   \n",
       "\n",
       "                                                 court  \\\n",
       "0                                                  NaN   \n",
       "1                                                  NaN   \n",
       "2                                                  NaN   \n",
       "3                                                  NaN   \n",
       "4    Massachusetts State, Superior Court, Essex County   \n",
       "..                                                 ...   \n",
       "115                                                NaN   \n",
       "116                                                NaN   \n",
       "117                                                NaN   \n",
       "118                                                NaN   \n",
       "119                                                NaN   \n",
       "\n",
       "                                           link_viewer  \\\n",
       "0                                                  NaN   \n",
       "1                                                  NaN   \n",
       "2                                                  NaN   \n",
       "3                                                  NaN   \n",
       "4    https://www.docketalarm.com/cases/Massachusett...   \n",
       "..                                                 ...   \n",
       "115                                                NaN   \n",
       "116                                                NaN   \n",
       "117                                                NaN   \n",
       "118                                                NaN   \n",
       "119                                                NaN   \n",
       "\n",
       "                                                  link       docket  \\\n",
       "0                                                  NaN          NaN   \n",
       "1                                                  NaN          NaN   \n",
       "2                                                  NaN          NaN   \n",
       "3                                                  NaN          NaN   \n",
       "4    https://www.docketalarm.com/cases/Massachusett...  1777CV00789   \n",
       "..                                                 ...          ...   \n",
       "115                                                NaN          NaN   \n",
       "116                                                NaN          NaN   \n",
       "117                                                NaN          NaN   \n",
       "118                                                NaN          NaN   \n",
       "119                                                NaN          NaN   \n",
       "\n",
       "    document_path  \n",
       "0                  \n",
       "1                  \n",
       "2                  \n",
       "3                  \n",
       "4                  \n",
       "..            ...  \n",
       "115                \n",
       "116                \n",
       "117                \n",
       "118                \n",
       "119                \n",
       "\n",
       "[120 rows x 7 columns]"
      ]
     },
     "execution_count": 15,
     "metadata": {},
     "output_type": "execute_result"
    }
   ],
   "source": [
    "classifier.metadata.get_docket_report()"
   ]
  }
 ],
 "metadata": {
  "kernelspec": {
   "display_name": "Python 3 (ipykernel)",
   "language": "python",
   "name": "python3"
  },
  "language_info": {
   "codemirror_mode": {
    "name": "ipython",
    "version": 3
   },
   "file_extension": ".py",
   "mimetype": "text/x-python",
   "name": "python",
   "nbconvert_exporter": "python",
   "pygments_lexer": "ipython3",
   "version": "3.12.4"
  }
 },
 "nbformat": 4,
 "nbformat_minor": 5
}
