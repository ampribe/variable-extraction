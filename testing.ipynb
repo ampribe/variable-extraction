{
 "cells": [
  {
   "cell_type": "markdown",
   "id": "e73b08b9-677f-417c-8785-4bc30af80cdc",
   "metadata": {},
   "source": [
    "### Code"
   ]
  },
  {
   "cell_type": "code",
   "execution_count": 1,
   "id": "3ff2f657-a728-4ebb-af7b-7195c65066d6",
   "metadata": {},
   "outputs": [],
   "source": [
    "import numpy as np\n",
    "import pandas as pd\n",
    "import os\n",
    "from utils.case_directory import CaseDirectory\n",
    "from utils.case_metadata import CaseMetadata\n",
    "from extractors.jury_ruling_classifier import JuryRulingClassifier"
   ]
  },
  {
   "cell_type": "code",
   "execution_count": 10,
   "id": "3b3982fc-28f7-47a3-915d-823f525ce072",
   "metadata": {},
   "outputs": [],
   "source": [
    "def summarize_trial_classification():\n",
    "    d = CaseDirectory(\"100_random_sample\")\n",
    "    d.categorize_cases(\"random_categories.csv\")\n",
    "    df = pd.read_csv(\"random_categories.csv\")\n",
    "    df2 = pd.read_csv(\"labeled_cases.csv\")\n",
    "    print(\"Percentage keyword cases correctly classified\")\n",
    "    print(len(df2[(df.trial == ((df2.trial_type == \"jury\") | (df2.trial_type == \"bench\")))])/len(df2))\n",
    "    print(\"Categorization of cases misclassified\")\n",
    "    print(df2[(df.trial != ((df2.trial_type == \"jury\") | (df2.trial_type == \"bench\")))].trial_type.value_counts())"
   ]
  },
  {
   "cell_type": "markdown",
   "id": "93c2a473-7c1b-43ea-816a-31a42857125d",
   "metadata": {
    "jp-MarkdownHeadingCollapsed": true
   },
   "source": [
    "### Find Trial Docs"
   ]
  },
  {
   "cell_type": "code",
   "execution_count": 2,
   "id": "fddeda79-13b3-42a2-9233-677bc8491a89",
   "metadata": {},
   "outputs": [],
   "source": [
    "directory = CaseDirectory(\"100_random_fed\")"
   ]
  },
  {
   "cell_type": "code",
   "execution_count": 3,
   "id": "de6f63ef-9afc-4c82-8974-6c7f54f8ceab",
   "metadata": {},
   "outputs": [],
   "source": [
    "directory.categorize_cases(\"fed_categories.csv\")"
   ]
  },
  {
   "cell_type": "code",
   "execution_count": 4,
   "id": "6b68b7c9-3cba-48af-ad42-c83df77dab19",
   "metadata": {},
   "outputs": [],
   "source": [
    "df = pd.read_csv(\"fed_categories.csv\")"
   ]
  },
  {
   "cell_type": "code",
   "execution_count": 6,
   "id": "79adde7d-740a-4be8-b060-fc2b5e4a6dea",
   "metadata": {},
   "outputs": [],
   "source": [
    "trial_docs = {}"
   ]
  },
  {
   "cell_type": "code",
   "execution_count": 12,
   "id": "0a1d3b16-e389-4d17-b9ca-5f99c359ab87",
   "metadata": {},
   "outputs": [],
   "source": [
    "trial_paths = df[df.trial == True].metadata_path.tolist()"
   ]
  },
  {
   "cell_type": "code",
   "execution_count": 115,
   "id": "6b690b54-eef7-46d6-85ad-1e96444bf269",
   "metadata": {
    "scrolled": true
   },
   "outputs": [
    {
     "data": {
      "text/html": [
       "<div>\n",
       "<style scoped>\n",
       "    .dataframe tbody tr th:only-of-type {\n",
       "        vertical-align: middle;\n",
       "    }\n",
       "\n",
       "    .dataframe tbody tr th {\n",
       "        vertical-align: top;\n",
       "    }\n",
       "\n",
       "    .dataframe thead th {\n",
       "        text-align: right;\n",
       "    }\n",
       "</style>\n",
       "<table border=\"1\" class=\"dataframe\">\n",
       "  <thead>\n",
       "    <tr style=\"text-align: right;\">\n",
       "      <th></th>\n",
       "      <th>link_viewer</th>\n",
       "      <th>number</th>\n",
       "      <th>exhibits</th>\n",
       "      <th>link</th>\n",
       "      <th>entry_date</th>\n",
       "      <th>date</th>\n",
       "      <th>contents</th>\n",
       "      <th>document_path</th>\n",
       "    </tr>\n",
       "  </thead>\n",
       "  <tbody>\n",
       "    <tr>\n",
       "      <th>2</th>\n",
       "      <td>https://www.docketalarm.com/cases/Illinois_Cen...</td>\n",
       "      <td>481</td>\n",
       "      <td>[]</td>\n",
       "      <td>https://www.docketalarm.com/cases/Illinois_Cen...</td>\n",
       "      <td>NaT</td>\n",
       "      <td>2011-04-18</td>\n",
       "      <td>ORDER &amp; OPINION entered by Judge Joe Billy Mc...</td>\n",
       "      <td>100_random_fed/Illinois_Central_District_Court...</td>\n",
       "    </tr>\n",
       "    <tr>\n",
       "      <th>3</th>\n",
       "      <td>https://www.docketalarm.com/cases/Illinois_Cen...</td>\n",
       "      <td>481</td>\n",
       "      <td>[]</td>\n",
       "      <td>https://www.docketalarm.com/cases/Illinois_Cen...</td>\n",
       "      <td>NaT</td>\n",
       "      <td>2011-04-18</td>\n",
       "      <td>ORDER &amp; OPINION entered by Judge Joe Billy Mc...</td>\n",
       "      <td>100_random_fed/Illinois_Central_District_Court...</td>\n",
       "    </tr>\n",
       "    <tr>\n",
       "      <th>6</th>\n",
       "      <td>https://www.docketalarm.com/cases/Illinois_Cen...</td>\n",
       "      <td>478</td>\n",
       "      <td>[]</td>\n",
       "      <td>https://www.docketalarm.com/cases/Illinois_Cen...</td>\n",
       "      <td>NaT</td>\n",
       "      <td>2010-07-13</td>\n",
       "      <td>ORDER entered by Magistrate Judge John A. Gorm...</td>\n",
       "      <td>100_random_fed/Illinois_Central_District_Court...</td>\n",
       "    </tr>\n",
       "    <tr>\n",
       "      <th>36</th>\n",
       "      <td>https://www.docketalarm.com/cases/Illinois_Cen...</td>\n",
       "      <td>448</td>\n",
       "      <td>[]</td>\n",
       "      <td>https://www.docketalarm.com/cases/Illinois_Cen...</td>\n",
       "      <td>NaT</td>\n",
       "      <td>2009-12-15</td>\n",
       "      <td>ORDER entered by Judge Joe Billy McDade on 12...</td>\n",
       "      <td>100_random_fed/Illinois_Central_District_Court...</td>\n",
       "    </tr>\n",
       "    <tr>\n",
       "      <th>37</th>\n",
       "      <td>https://www.docketalarm.com/cases/Illinois_Cen...</td>\n",
       "      <td>448</td>\n",
       "      <td>[]</td>\n",
       "      <td>https://www.docketalarm.com/cases/Illinois_Cen...</td>\n",
       "      <td>NaT</td>\n",
       "      <td>2009-12-15</td>\n",
       "      <td>ORDER entered by Judge Joe Billy McDade on 12...</td>\n",
       "      <td>100_random_fed/Illinois_Central_District_Court...</td>\n",
       "    </tr>\n",
       "    <tr>\n",
       "      <th>99</th>\n",
       "      <td>https://www.docketalarm.com/cases/Illinois_Cen...</td>\n",
       "      <td>386</td>\n",
       "      <td>[]</td>\n",
       "      <td>https://www.docketalarm.com/cases/Illinois_Cen...</td>\n",
       "      <td>NaT</td>\n",
       "      <td>2007-09-06</td>\n",
       "      <td>ORDER granting in part and denying in part  38...</td>\n",
       "      <td>100_random_fed/Illinois_Central_District_Court...</td>\n",
       "    </tr>\n",
       "    <tr>\n",
       "      <th>289</th>\n",
       "      <td>https://www.docketalarm.com/cases/Illinois_Cen...</td>\n",
       "      <td>276</td>\n",
       "      <td>[]</td>\n",
       "      <td>https://www.docketalarm.com/cases/Illinois_Cen...</td>\n",
       "      <td>NaT</td>\n",
       "      <td>2007-07-30</td>\n",
       "      <td>OPINION &amp; ORDER ENTERED: Ordered that  222  M...</td>\n",
       "      <td>100_random_fed/Illinois_Central_District_Court...</td>\n",
       "    </tr>\n",
       "    <tr>\n",
       "      <th>327</th>\n",
       "      <td>https://www.docketalarm.com/cases/Illinois_Cen...</td>\n",
       "      <td>276</td>\n",
       "      <td>[]</td>\n",
       "      <td>https://www.docketalarm.com/cases/Illinois_Cen...</td>\n",
       "      <td>NaT</td>\n",
       "      <td>2007-07-30</td>\n",
       "      <td>OPINION &amp; ORDER ENTERED: Ordered that  222  M...</td>\n",
       "      <td>100_random_fed/Illinois_Central_District_Court...</td>\n",
       "    </tr>\n",
       "    <tr>\n",
       "      <th>365</th>\n",
       "      <td>https://www.docketalarm.com/cases/Illinois_Cen...</td>\n",
       "      <td>276</td>\n",
       "      <td>[]</td>\n",
       "      <td>https://www.docketalarm.com/cases/Illinois_Cen...</td>\n",
       "      <td>NaT</td>\n",
       "      <td>2007-07-30</td>\n",
       "      <td>OPINION &amp; ORDER ENTERED: Ordered that 222 MOTI...</td>\n",
       "      <td>100_random_fed/Illinois_Central_District_Court...</td>\n",
       "    </tr>\n",
       "    <tr>\n",
       "      <th>403</th>\n",
       "      <td>https://www.docketalarm.com/cases/Illinois_Cen...</td>\n",
       "      <td>276</td>\n",
       "      <td>[]</td>\n",
       "      <td>https://www.docketalarm.com/cases/Illinois_Cen...</td>\n",
       "      <td>NaT</td>\n",
       "      <td>2007-07-30</td>\n",
       "      <td>OPINION &amp; ORDER ENTERED: Ordered that  222  M...</td>\n",
       "      <td>100_random_fed/Illinois_Central_District_Court...</td>\n",
       "    </tr>\n",
       "    <tr>\n",
       "      <th>441</th>\n",
       "      <td>https://www.docketalarm.com/cases/Illinois_Cen...</td>\n",
       "      <td>276</td>\n",
       "      <td>[]</td>\n",
       "      <td>https://www.docketalarm.com/cases/Illinois_Cen...</td>\n",
       "      <td>NaT</td>\n",
       "      <td>2007-07-30</td>\n",
       "      <td>OPINION &amp; ORDER ENTERED: Ordered that  222  M...</td>\n",
       "      <td>100_random_fed/Illinois_Central_District_Court...</td>\n",
       "    </tr>\n",
       "    <tr>\n",
       "      <th>611</th>\n",
       "      <td>https://www.docketalarm.com/cases/Illinois_Cen...</td>\n",
       "      <td>234</td>\n",
       "      <td>[]</td>\n",
       "      <td>https://www.docketalarm.com/cases/Illinois_Cen...</td>\n",
       "      <td>NaT</td>\n",
       "      <td>2007-07-10</td>\n",
       "      <td>ORDER granting  219  Motion to Dismiss; ORDER ...</td>\n",
       "      <td>100_random_fed/Illinois_Central_District_Court...</td>\n",
       "    </tr>\n",
       "    <tr>\n",
       "      <th>643</th>\n",
       "      <td>https://www.docketalarm.com/cases/Illinois_Cen...</td>\n",
       "      <td>202</td>\n",
       "      <td>[]</td>\n",
       "      <td>https://www.docketalarm.com/cases/Illinois_Cen...</td>\n",
       "      <td>NaT</td>\n",
       "      <td>2006-12-11</td>\n",
       "      <td>ORDER granting in part and denying in part  1...</td>\n",
       "      <td>100_random_fed/Illinois_Central_District_Court...</td>\n",
       "    </tr>\n",
       "    <tr>\n",
       "      <th>650</th>\n",
       "      <td>https://www.docketalarm.com/cases/Illinois_Cen...</td>\n",
       "      <td>195</td>\n",
       "      <td>[]</td>\n",
       "      <td>https://www.docketalarm.com/cases/Illinois_Cen...</td>\n",
       "      <td>NaT</td>\n",
       "      <td>2006-08-11</td>\n",
       "      <td>ORDER granting  98  Motion entry of final jud...</td>\n",
       "      <td>100_random_fed/Illinois_Central_District_Court...</td>\n",
       "    </tr>\n",
       "    <tr>\n",
       "      <th>662</th>\n",
       "      <td>https://www.docketalarm.com/cases/Illinois_Cen...</td>\n",
       "      <td>183</td>\n",
       "      <td>[]</td>\n",
       "      <td>https://www.docketalarm.com/cases/Illinois_Cen...</td>\n",
       "      <td>NaT</td>\n",
       "      <td>2006-06-21</td>\n",
       "      <td>ORDER re  71  Order on Motion for Protective ...</td>\n",
       "      <td>100_random_fed/Illinois_Central_District_Court...</td>\n",
       "    </tr>\n",
       "    <tr>\n",
       "      <th>752</th>\n",
       "      <td>https://www.docketalarm.com/cases/Illinois_Cen...</td>\n",
       "      <td>93</td>\n",
       "      <td>[]</td>\n",
       "      <td>https://www.docketalarm.com/cases/Illinois_Cen...</td>\n",
       "      <td>NaT</td>\n",
       "      <td>2005-09-26</td>\n",
       "      <td>ORDER granting  80  Motion for Summary Judgme...</td>\n",
       "      <td>100_random_fed/Illinois_Central_District_Court...</td>\n",
       "    </tr>\n",
       "  </tbody>\n",
       "</table>\n",
       "</div>"
      ],
      "text/plain": [
       "                                           link_viewer  number exhibits  \\\n",
       "2    https://www.docketalarm.com/cases/Illinois_Cen...     481       []   \n",
       "3    https://www.docketalarm.com/cases/Illinois_Cen...     481       []   \n",
       "6    https://www.docketalarm.com/cases/Illinois_Cen...     478       []   \n",
       "36   https://www.docketalarm.com/cases/Illinois_Cen...     448       []   \n",
       "37   https://www.docketalarm.com/cases/Illinois_Cen...     448       []   \n",
       "99   https://www.docketalarm.com/cases/Illinois_Cen...     386       []   \n",
       "289  https://www.docketalarm.com/cases/Illinois_Cen...     276       []   \n",
       "327  https://www.docketalarm.com/cases/Illinois_Cen...     276       []   \n",
       "365  https://www.docketalarm.com/cases/Illinois_Cen...     276       []   \n",
       "403  https://www.docketalarm.com/cases/Illinois_Cen...     276       []   \n",
       "441  https://www.docketalarm.com/cases/Illinois_Cen...     276       []   \n",
       "611  https://www.docketalarm.com/cases/Illinois_Cen...     234       []   \n",
       "643  https://www.docketalarm.com/cases/Illinois_Cen...     202       []   \n",
       "650  https://www.docketalarm.com/cases/Illinois_Cen...     195       []   \n",
       "662  https://www.docketalarm.com/cases/Illinois_Cen...     183       []   \n",
       "752  https://www.docketalarm.com/cases/Illinois_Cen...      93       []   \n",
       "\n",
       "                                                  link entry_date       date  \\\n",
       "2    https://www.docketalarm.com/cases/Illinois_Cen...        NaT 2011-04-18   \n",
       "3    https://www.docketalarm.com/cases/Illinois_Cen...        NaT 2011-04-18   \n",
       "6    https://www.docketalarm.com/cases/Illinois_Cen...        NaT 2010-07-13   \n",
       "36   https://www.docketalarm.com/cases/Illinois_Cen...        NaT 2009-12-15   \n",
       "37   https://www.docketalarm.com/cases/Illinois_Cen...        NaT 2009-12-15   \n",
       "99   https://www.docketalarm.com/cases/Illinois_Cen...        NaT 2007-09-06   \n",
       "289  https://www.docketalarm.com/cases/Illinois_Cen...        NaT 2007-07-30   \n",
       "327  https://www.docketalarm.com/cases/Illinois_Cen...        NaT 2007-07-30   \n",
       "365  https://www.docketalarm.com/cases/Illinois_Cen...        NaT 2007-07-30   \n",
       "403  https://www.docketalarm.com/cases/Illinois_Cen...        NaT 2007-07-30   \n",
       "441  https://www.docketalarm.com/cases/Illinois_Cen...        NaT 2007-07-30   \n",
       "611  https://www.docketalarm.com/cases/Illinois_Cen...        NaT 2007-07-10   \n",
       "643  https://www.docketalarm.com/cases/Illinois_Cen...        NaT 2006-12-11   \n",
       "650  https://www.docketalarm.com/cases/Illinois_Cen...        NaT 2006-08-11   \n",
       "662  https://www.docketalarm.com/cases/Illinois_Cen...        NaT 2006-06-21   \n",
       "752  https://www.docketalarm.com/cases/Illinois_Cen...        NaT 2005-09-26   \n",
       "\n",
       "                                              contents  \\\n",
       "2     ORDER & OPINION entered by Judge Joe Billy Mc...   \n",
       "3     ORDER & OPINION entered by Judge Joe Billy Mc...   \n",
       "6    ORDER entered by Magistrate Judge John A. Gorm...   \n",
       "36    ORDER entered by Judge Joe Billy McDade on 12...   \n",
       "37    ORDER entered by Judge Joe Billy McDade on 12...   \n",
       "99   ORDER granting in part and denying in part  38...   \n",
       "289   OPINION & ORDER ENTERED: Ordered that  222  M...   \n",
       "327   OPINION & ORDER ENTERED: Ordered that  222  M...   \n",
       "365  OPINION & ORDER ENTERED: Ordered that 222 MOTI...   \n",
       "403   OPINION & ORDER ENTERED: Ordered that  222  M...   \n",
       "441   OPINION & ORDER ENTERED: Ordered that  222  M...   \n",
       "611  ORDER granting  219  Motion to Dismiss; ORDER ...   \n",
       "643   ORDER granting in part and denying in part  1...   \n",
       "650   ORDER granting  98  Motion entry of final jud...   \n",
       "662   ORDER re  71  Order on Motion for Protective ...   \n",
       "752   ORDER granting  80  Motion for Summary Judgme...   \n",
       "\n",
       "                                         document_path  \n",
       "2    100_random_fed/Illinois_Central_District_Court...  \n",
       "3    100_random_fed/Illinois_Central_District_Court...  \n",
       "6    100_random_fed/Illinois_Central_District_Court...  \n",
       "36   100_random_fed/Illinois_Central_District_Court...  \n",
       "37   100_random_fed/Illinois_Central_District_Court...  \n",
       "99   100_random_fed/Illinois_Central_District_Court...  \n",
       "289  100_random_fed/Illinois_Central_District_Court...  \n",
       "327  100_random_fed/Illinois_Central_District_Court...  \n",
       "365  100_random_fed/Illinois_Central_District_Court...  \n",
       "403  100_random_fed/Illinois_Central_District_Court...  \n",
       "441  100_random_fed/Illinois_Central_District_Court...  \n",
       "611  100_random_fed/Illinois_Central_District_Court...  \n",
       "643  100_random_fed/Illinois_Central_District_Court...  \n",
       "650  100_random_fed/Illinois_Central_District_Court...  \n",
       "662  100_random_fed/Illinois_Central_District_Court...  \n",
       "752  100_random_fed/Illinois_Central_District_Court...  "
      ]
     },
     "execution_count": 115,
     "metadata": {},
     "output_type": "execute_result"
    }
   ],
   "source": [
    "path = trial_paths[29]\n",
    "case = CaseMetadata.from_metadata_path(path)\n",
    "dr = case.get_docket_report()\n",
    "dr[dr.document_path != \"\"]"
   ]
  },
  {
   "cell_type": "code",
   "execution_count": 111,
   "id": "b9dcc4f1-7322-4505-93f0-947966ba987c",
   "metadata": {},
   "outputs": [
    {
     "name": "stdout",
     "output_type": "stream",
     "text": [
      "1:04-cv-01118-JBM-JAG   # 93    Page 1 of 3                                              \n",
      "\n",
      "E-FILEDE-FILEDE-FILED\n",
      "     \n",
      "\n",
      " Monday, 26 September, 2005  02:49:50 PM  Monday, 26 September, 2005  02:50:25 PM  Monday, 26 September, 2005  02:51:00 PM \n",
      "\n",
      " Clerk, U.S. District Court, ILCD Clerk, U.S. District Court, ILCD Clerk, U.S. District Court, ILCD\n",
      "UNITED STATES DISTRICT COURT\n",
      "CENTRAL DISTRICT OF ILLINOIS\n",
      "TRISH LEE McCLOUD, by\n",
      ")\n",
      "and through her legal\n",
      ")\n",
      "guardian, Candy L. Hall,\n",
      "Plaintiff,\n",
      "))\n",
      "))\n",
      ")          Case No. 04-1118\n",
      "v.\n",
      ")\n",
      "GOODYEAR DUNLOP TIRES NORTH )\n",
      "AMERICA, LTD. and THE         )\n",
      "GOODYEAR TIRE & RUBBER    \n",
      ")\n",
      "COMPANY, \n",
      "))\n",
      ")\n",
      "Defendants.\n",
      "O R D E R\n",
      "In separate lawsuits Plaintiff Trish Lee McCloud, a passenger\n",
      "on a motorcycle being operated by William Booker (Case No. 04-1118)\n",
      "and Plaintiff William Booker (Case No. 04-1159) sued Defendants\n",
      "Goodyear Dunlop Tires North America, Ltd. (Dunlop) and The Goodyear\n",
      "Tire & Rubber Company (Goodyear) (collectively referred to as\n",
      "Dunlop/Goodyear) for injuries sustained in an accident involving\n",
      "the motorcycle caused by allegedly defective tires manufactured\n",
      "and/or distributed by Dunlop/Goodyear.  These two cases were\n",
      "consolidated under Case No. 04-1114. \n",
      "Before the Court today is the motion of William Booker.\n",
      "Plaintiff/Counterdefendant in Case No. 04-1159 for summary judgment\n",
      "on the counterclaim of Dunlop/Goodyear for contribution pursuant to\n",
      "Illinois state law by Dunlop and Goodyear in connection with the\n",
      "claims of Plaintiff Trish Lee McCloud. \n",
      "The summary judgment motion was e-filed August 5, 2005, and\n",
      "pursuant to Local Rule 7.1(D), Dunlop/Goodyear was required to file\n",
      "\f",
      "\n",
      "1:04-cv-01118-JBM-JAG   # 93    Page 2 of 3                                              \n",
      "     \n",
      "a response to the motion within a 21 day period that expired August\n",
      "26, 2005.  Their failure to respond is deemed an admission of the\n",
      "motion.  Local Rule 7.1(D)(2).\n",
      "The summary judgment motion is part of a broader motion also\n",
      "seeking a finding that Plaintiff’s claim against Booker was settled\n",
      "in good faith thereby barring the contribution action against\n",
      "Booker by Dunlop/Goodyear in their counterclaim.  \n",
      "There does not appear to be any dispute as to any material\n",
      "fact and the record before the Court includes the following\n",
      "exhibits:\n",
      "(a) Trish Lee McCloud’s complaint;\n",
      "(b) Goodyear Dunlop Tires North America, Ltd., and The\n",
      "Goodyear Tire & Rubber Company’s amended answer and\n",
      "affirmative defenses;\n",
      "(c) Goodyear Dunlop Tires North America, Ltd., and the\n",
      "Goodyear Tire & Rubber Company’s counterclaim for\n",
      "contribution against William Booker;\n",
      "(d) William Booker’s answer to the counterclaim and\n",
      "contribution;\n",
      "(e) William Booker’s answers to Goodyear Dunlop Tires North\n",
      "America, Ltd, and The Goodyear Tire & Rubber Company’s\n",
      "interrogatories;\n",
      "(f) certification of records/attestation of exemplified\n",
      "copies, petition for approval of settlement, affidavit of\n",
      "Candy Hall and order approving settlement, Berrien County\n",
      "Probate Court, Second Judicial Circuit, Fifth Judicial\n",
      "District, State of Michigan;\n",
      "2\n",
      "\f",
      "\n",
      "1:04-cv-01118-JBM-JAG   # 93    Page 3 of 3                                              \n",
      "     \n",
      "(g) release.\n",
      "In consideration of the record there is no genuine issue as to\n",
      "any material fact and Plaintiff/Counterdefendant William Booker in\n",
      "Case No. 04-1159 is entitled to a judgment as a matter of law.\n",
      "Accordingly, the Court finds that the settlement by Defendant\n",
      "Booker of Plaintiff McCloud’s claims against him in Case No. 04-\n",
      "1118 for $50,000, the full amount of insurance coverage available\n",
      "to Booker was and is fair, reasonable, and “in good faith” within\n",
      "the meaning of Section 2(c) of the Illinois Joint Tortfeasor\n",
      "Contribution Act.  740 ILCS 100/2(c).\n",
      "It is Ordered that summary judgment is awarded in favor of\n",
      "Plaintiff/Counterdefendant \n",
      "Booker \n",
      "and \n",
      "against\n",
      "Defendants/Counterplaintiffs Dunlop and Goodyear on the latters’\n",
      "counterclaim in Case No. 04-1159.  This case is referred back to\n",
      "Magistrate Judge Gorman for further pretrial administration. \n",
      "ENTERED this   23rd    day of September, 2005.\n",
      "          s/ Joe B. McDade         \n",
      "JOE BILLY McDADE\n",
      " \n",
      "United States District Judge \n",
      "3\n"
     ]
    }
   ],
   "source": [
    "title = dr.loc[752, \"contents\"]\n",
    "doc = case.get_document_by_docket_report_title(title)\n",
    "print(list(doc.values())[0])"
   ]
  },
  {
   "cell_type": "code",
   "execution_count": 112,
   "id": "d429bc4a-31d3-4578-ad75-d2011065e259",
   "metadata": {},
   "outputs": [],
   "source": [
    "trial_docs.update(doc)"
   ]
  },
  {
   "cell_type": "code",
   "execution_count": 113,
   "id": "434ade17-0e2c-4cd7-b1c3-c4cea82ee281",
   "metadata": {},
   "outputs": [
    {
     "data": {
      "text/plain": [
       "dict_keys(['100_random_fed/Texas_Eastern_District_Court/2--21-cv-00084/The_Chamberlain_Group_LLC_v._Overhead_Door_Corporation_et_al/600.txt', '100_random_fed/Wisconsin_Western_District_Court/3--14-cv-00099/Haley_Mary_et_al_v._Kolbe_and_Kolbe_Millwork_Co._Inc._et_al/603.txt', '100_random_fed/California_Northern_District_Court/5--16-cv-01370/Sumotext_Corp._-v-_Zoove_Inc._et_al/470.txt', '100_random_fed/New_Jersey_District_Court/1--16-cv-00395/KUHAR_et_al_v._PETZL_COMPANY_et_al/234.txt', '100_random_fed/New_York_Southern_District_Court/1--10-cv-02881/The_Estate_of_Mauricio_Jaquez_v._The_City_of_New_York_et_al/186.txt', '100_random_fed/North_Carolina_Western_District_Court/3--15-cv-00309/Poole_v._Gaston_County_et_al/134.txt', '100_random_fed/California_Central_District_Court/2--06-cv-03923/Aleksandr_L_Yufa_v._Lockheed_Martin_Corporation_et_al/311.txt', '100_random_fed/California_Central_District_Court/5--15-cv-01921/Bennion_and_Deville_Fine_Homes_Inc_et_al_v._Windermere_Real_Estate_Services_Company_et_al/270.txt', '100_random_fed/Illinois_Central_District_Court/1--04-cv-01118/McCloud_v._Goodyear_Dunlop_Tire_et_al/93.txt'])"
      ]
     },
     "execution_count": 113,
     "metadata": {},
     "output_type": "execute_result"
    }
   ],
   "source": [
    "trial_docs.keys()"
   ]
  },
  {
   "cell_type": "code",
   "execution_count": 116,
   "id": "7ab21360-61c0-4cec-83c5-e69b079ea0b5",
   "metadata": {},
   "outputs": [],
   "source": [
    "d = [{\"path\": path, \"text\": text} for (path, text) in trial_docs.items()]"
   ]
  },
  {
   "cell_type": "code",
   "execution_count": 117,
   "id": "261a5b1b-59a8-451d-8c1d-09594320153d",
   "metadata": {},
   "outputs": [],
   "source": [
    "pd.DataFrame(d).to_csv(\"federal_trial_docs.csv\", index=False)"
   ]
  },
  {
   "cell_type": "code",
   "execution_count": 118,
   "id": "f96d7abc-063c-4333-8524-09023237aa16",
   "metadata": {},
   "outputs": [],
   "source": [
    "df2 = pd.read_csv(\"federal_trial_docs.csv\")"
   ]
  },
  {
   "cell_type": "code",
   "execution_count": 121,
   "id": "bcaa72cc-fcca-41e5-aba8-a49b19cc8503",
   "metadata": {},
   "outputs": [
    {
     "data": {
      "text/plain": [
       "['100_random_fed/Texas_Eastern_District_Court/2--21-cv-00084/The_Chamberlain_Group_LLC_v._Overhead_Door_Corporation_et_al/600.txt',\n",
       " '100_random_fed/Wisconsin_Western_District_Court/3--14-cv-00099/Haley_Mary_et_al_v._Kolbe_and_Kolbe_Millwork_Co._Inc._et_al/603.txt',\n",
       " '100_random_fed/California_Northern_District_Court/5--16-cv-01370/Sumotext_Corp._-v-_Zoove_Inc._et_al/470.txt',\n",
       " '100_random_fed/New_Jersey_District_Court/1--16-cv-00395/KUHAR_et_al_v._PETZL_COMPANY_et_al/234.txt',\n",
       " '100_random_fed/New_York_Southern_District_Court/1--10-cv-02881/The_Estate_of_Mauricio_Jaquez_v._The_City_of_New_York_et_al/186.txt',\n",
       " '100_random_fed/North_Carolina_Western_District_Court/3--15-cv-00309/Poole_v._Gaston_County_et_al/134.txt',\n",
       " '100_random_fed/California_Central_District_Court/2--06-cv-03923/Aleksandr_L_Yufa_v._Lockheed_Martin_Corporation_et_al/311.txt',\n",
       " '100_random_fed/California_Central_District_Court/5--15-cv-01921/Bennion_and_Deville_Fine_Homes_Inc_et_al_v._Windermere_Real_Estate_Services_Company_et_al/270.txt',\n",
       " '100_random_fed/Illinois_Central_District_Court/1--04-cv-01118/McCloud_v._Goodyear_Dunlop_Tire_et_al/93.txt']"
      ]
     },
     "execution_count": 121,
     "metadata": {},
     "output_type": "execute_result"
    }
   ],
   "source": [
    "df2.path.tolist()"
   ]
  },
  {
   "cell_type": "markdown",
   "id": "f71f8cca-61ff-40ea-8fd5-0284dc0a0f54",
   "metadata": {},
   "source": [
    "### Classification"
   ]
  },
  {
   "cell_type": "code",
   "execution_count": 124,
   "id": "cd1db805-91bc-446a-83db-e0bea7215209",
   "metadata": {},
   "outputs": [],
   "source": [
    "path = \"100_random_sample/New_York_State_Suffolk_County_Supreme_Court/602235---2016/metadata.json\"\n",
    "classifier = JuryRulingClassifier(path, language_model=\"llama3.1\", llm_document_count=7)"
   ]
  },
  {
   "cell_type": "code",
   "execution_count": 10,
   "id": "32c1d6a2-1228-4627-abbc-17c50c9d57fd",
   "metadata": {},
   "outputs": [
    {
     "name": "stdout",
     "output_type": "stream",
     "text": [
      "Extracting from metadata...\n",
      "- Getting relevant chunks...\n",
      "- Querying llm...\n",
      "- Response: {'reasoning': \"The documents provided are all related to the plaintiffs' proposed verdict sheets and jury instructions, which suggests that the case is focused on the plaintiff's claims. However, there is no indication of a jury verdict or a ruling in favor of either party. The lack of reference to a verdict or a specific outcome indicates that the decision of the jury trial is not identified in these documents.\", 'category': 'undetermined'}\n",
      "Extracting from documents...\n",
      "- Getting relevant chunks...\n",
      "- Querying llm...\n",
      "- Response: {'reasoning': \"The jury verdict forms do not explicitly identify a final decision regarding the plaintiff's claim against the defendant. However, Verdict 4 asks for damages, which implies that the plaintiffs have been found liable by the jury. This shows that the jury ruled in favor of the plaintiffs because they were awarded damages.\", 'category': 'plaintiff'}\n"
     ]
    },
    {
     "data": {
      "text/plain": [
       "{'reasoning': \"The jury verdict forms do not explicitly identify a final decision regarding the plaintiff's claim against the defendant. However, Verdict 4 asks for damages, which implies that the plaintiffs have been found liable by the jury. This shows that the jury ruled in favor of the plaintiffs because they were awarded damages.\",\n",
       " 'category': 'plaintiff'}"
      ]
     },
     "execution_count": 10,
     "metadata": {},
     "output_type": "execute_result"
    }
   ],
   "source": [
    "classifier.extract()"
   ]
  },
  {
   "cell_type": "code",
   "execution_count": 133,
   "id": "d75509a8-bec5-47ef-99cf-cf61dad883b6",
   "metadata": {},
   "outputs": [],
   "source": [
    "prompt = \"\"\"\n",
    "        You are an expert legal analyst. You will be given a sequence of indices and legal summaries from legal documents relating to a case in the United States. Documents are separated by ||. All documents correspond to the same case. \n",
    "        Based on the summaries, determine which documents may contain the outcome of the case.\n",
    "        Relevant documents may include decision, verdict, opinion, sentencing, and trial documents. \n",
    "        Respond with a JSON object in the form {\"reasoning\": \"...\", \"indices\": ...}\n",
    "        reasoning should be in the format \"The summary of document _ contains _, so document _ is likely to contain the outcome of the case because _\"\n",
    "        indices should be a list of the indices of relevant documents. Do not include anything other than the relevant indices in indices. \n",
    "        \"\"\""
   ]
  },
  {
   "cell_type": "code",
   "execution_count": 134,
   "id": "430cf5bb-f5bd-4396-8733-91b563e6cb45",
   "metadata": {},
   "outputs": [],
   "source": [
    "docs = classifier.metadata.get_docket_report_contents()"
   ]
  },
  {
   "cell_type": "code",
   "execution_count": 135,
   "id": "4ea5d664-a8a2-44a3-81e0-a083eb2b5d87",
   "metadata": {},
   "outputs": [],
   "source": [
    "s = \"\"\n",
    "for i, doc in enumerate(docs):\n",
    "    s += (f\"{i}: {doc}||\")"
   ]
  },
  {
   "cell_type": "code",
   "execution_count": 136,
   "id": "b1a0467b-73c1-414f-b351-1de1cddf2abc",
   "metadata": {},
   "outputs": [
    {
     "data": {
      "text/plain": [
       "\"0: DECISION + ORDER ON MOTION (Motion #004)||1: AFFIDAVIT OR AFFIRMATION IN OPPOSITION TO CROSS-MOTION AND IN FURTHER SUPPORT OF MOTION (Motion #001)||2: EXHIBIT(S) - 1 (Motion #004) Exhibit 1 - First Midwest South Willowbrook Statements||3: AFFIDAVIT OR AFFIRMATION IN OPPOSITION TO MOTION (Motion #004) Affirmation in Opposition||4: EXTRACT Trial Extract||5: OTHER COURT FILED DOCUMENT Exhibit Sheet||6: VERDICT SHEET||7: JUROR NOTE(S)||8: JUROR NOTE(S)||9: EXHIBIT(S) Court Exhibit II / Statement of Claim||10: MARKED PLEADINGS Court Exhibit I||11: ADMISSION OF SERVICE (Motion #004)||12: AFFIDAVIT OR AFFIRMATION IN SUPPORT OF MOTION (Motion #004)||13: NOTICE OF MOTION (Motion #004)||14: TRIAL DOCUMENTS Plaintiffs' Proposed Verdict Sheets||15: TRIAL DOCUMENTS Plaintiffs' Proposed Jury Instructions||16: TRIAL DOCUMENTS Plaintiffs' Proposed Verdict Sheets||17: TRIAL DOCUMENTS Plaintiffs' Proposed Verdict Sheets||18: TRIAL DOCUMENTS Plaintiffs' Proposed Verdict Sheets||19: TRIAL DOCUMENTS Plaintiffs' Proposed Jury Instructions||20: TRIAL DOCUMENTS Plaintiffs' Proposed Verdict Sheets||21: TRIAL DOCUMENTS Plaintiffs' Proposed Verdict Sheets||22: TRIAL DOCUMENTS Plaintiffs' Proposed Jury Instructions||23: AFFIDAVIT OR AFFIRMATION IN OPPOSITION TO MOTION (Motion #003)||24: EXHIBIT(S) - 1 (Motion #003) Exhibit 1 - Arbitration Award||25: MEMORANDUM OF LAW IN SUPPORT (Motion #003) Memorandum of Points and Authorities||26: AFFIDAVIT OR AFFIRMATION IN SUPPORT OF MOTION (Motion #003) Affirmation in Support||27: NOTICE OF MOTION (Motion #003) Notice of Motion in Limine||28: TRIAL DOCUMENTS Motion in Limine||29: LETTER / CORRESPONDENCE TO JUDGE Letter to Judge||30: ORDER - TRIAL SCHEDULING||31: DECISION + ORDER ON MOTION (Motion #002) signed 11/28/22||32: DECISION + ORDER ON MOTION (Motion #002) *Corrected*||33: DECISION + ORDER ON MOTION (Motion #001) *Corrected*||34: AFFIRMATION/AFFIDAVIT OF SERVICE (Motion #002)||35: EXHIBIT(S) - C (Motion #002) 1-25-22 Email re Motion||36: EXHIBIT(S) - B (Motion #002) Jan 18 10:07 AM Text Msg||37: EXHIBIT(S) - A (Motion #002) Phone Record Call Log||38: AFFIDAVIT OR AFFIRMATION IN REPLY (Motion #002)||39: EXHIBIT(S) - 2 (Motion #002) Exhibit 2 - Cellphone Record||40: AFFIDAVIT OR AFFIRMATION IN REPLY (Motion #002) Reply Affirmation||41: AFFIRMATION/AFFIDAVIT OF SERVICE (Motion #002)||42: AFFIDAVIT OR AFFIRMATION IN OPPOSITION TO CROSS-MOTION (Motion #002)||43: EXHIBIT(S) - 1 (Motion #002) Exhibit 1 - Expert Report||44: AFFIDAVIT OR AFFIRMATION IN OPPOSITION TO MOTION AND IN SUPPORT OF CROSS-MOTION (Motion #002) Affirmation in Opposition to Motion and in Support of Cross-Motion||45: NOTICE OF CROSS-MOTION (Motion #002) Notice of Cross-Motion||46: AFFIRMATION/AFFIDAVIT OF SERVICE (Motion #001) NYSCEF Service||47: AFFIRMATION/AFFIDAVIT OF SERVICE (Motion #001) AOS Hard Copy Mailing||48: EXHIBIT(S) - E (Motion #001) Arbitration Award||49: EXHIBIT(S) - D (Motion #001) Statement of Claim||50: EXHIBIT(S) - C (Motion #001) March 15, 2014 FINRA Letter||51: EXHIBIT(S) - B (Motion #001) Verified Answer||52: EXHIBIT(S) - A (Motion #001) Summons and Complaint||53: AFFIDAVIT OR AFFIRMATION IN SUPPORT OF MOTION (Motion #001) Affidavit of Defendant in Support||54: NOTICE OF MOTION (Motion #001)||55: CONSENT TO CHANGE ATTORNEY (POST RJI) Consent to Change to Pro Se||56: NOTICE OF APPEARANCE (POST RJI)||57: COURT NOTICE||58: COURT NOTICE||59: NOTE OF ISSUE:WITH JURY Note of Issue||60: ORDER - COMPLIANCE CONFERENCE||61: NOTICE OF DEPOSITION UPON ORAL EXAMINATION||62: NOTICE OF DEPOSITION UPON ORAL EXAMINATION Notice of Deposition||63: LETTER/CORRESPONDENCE FROM COURT Compliance Conf 10/18/18||64: ORDER - PRELIMINARY CONFERENCE||65: RJI -RE: REQUEST FOR PRELIMINARY CONFERENCE||66: ANSWER||67: STIPULATION - TIME TO ANSWER||68: SUMMONS + COMPLAINT Summons and Verified Complaint||\""
      ]
     },
     "execution_count": 136,
     "metadata": {},
     "output_type": "execute_result"
    }
   ],
   "source": [
    "s"
   ]
  },
  {
   "cell_type": "code",
   "execution_count": 138,
   "id": "0ee06a38-fe2d-49bf-ae30-3d9dd0bffbdb",
   "metadata": {},
   "outputs": [],
   "source": [
    "import ollama"
   ]
  },
  {
   "cell_type": "code",
   "execution_count": 139,
   "id": "c13114ec-44ef-48b4-850c-7026d2f5aa42",
   "metadata": {},
   "outputs": [
    {
     "ename": "KeyboardInterrupt",
     "evalue": "",
     "output_type": "error",
     "traceback": [
      "\u001b[0;31m---------------------------------------------------------------------------\u001b[0m",
      "\u001b[0;31mKeyboardInterrupt\u001b[0m                         Traceback (most recent call last)",
      "Cell \u001b[0;32mIn[139], line 1\u001b[0m\n\u001b[0;32m----> 1\u001b[0m response \u001b[38;5;241m=\u001b[39m \u001b[43mollama\u001b[49m\u001b[38;5;241;43m.\u001b[39;49m\u001b[43mgenerate\u001b[49m\u001b[43m(\u001b[49m\n\u001b[1;32m      2\u001b[0m \u001b[43m            \u001b[49m\u001b[43mmodel\u001b[49m\u001b[38;5;241;43m=\u001b[39;49m\u001b[38;5;124;43m\"\u001b[39;49m\u001b[38;5;124;43mllama3.1\u001b[39;49m\u001b[38;5;124;43m\"\u001b[39;49m\u001b[43m,\u001b[49m\n\u001b[1;32m      3\u001b[0m \u001b[43m            \u001b[49m\u001b[43mprompt\u001b[49m\u001b[38;5;241;43m=\u001b[39;49m\u001b[43ms\u001b[49m\u001b[43m,\u001b[49m\n\u001b[1;32m      4\u001b[0m \u001b[43m            \u001b[49m\u001b[43msystem\u001b[49m\u001b[38;5;241;43m=\u001b[39;49m\u001b[43mprompt\u001b[49m\u001b[43m,\u001b[49m\n\u001b[1;32m      5\u001b[0m \u001b[43m            \u001b[49m\u001b[38;5;28;43mformat\u001b[39;49m\u001b[38;5;241;43m=\u001b[39;49m\u001b[38;5;124;43m\"\u001b[39;49m\u001b[38;5;124;43mjson\u001b[39;49m\u001b[38;5;124;43m\"\u001b[39;49m\u001b[43m,\u001b[49m\n\u001b[1;32m      6\u001b[0m \u001b[43m        \u001b[49m\u001b[43m)\u001b[49m\n",
      "File \u001b[0;32m~/Downloads/summer_internship/Variable_Extraction/venv/lib/python3.12/site-packages/ollama/_client.py:162\u001b[0m, in \u001b[0;36mClient.generate\u001b[0;34m(self, model, prompt, suffix, system, template, context, stream, raw, format, images, options, keep_alive)\u001b[0m\n\u001b[1;32m    159\u001b[0m \u001b[38;5;28;01mif\u001b[39;00m \u001b[38;5;129;01mnot\u001b[39;00m model:\n\u001b[1;32m    160\u001b[0m   \u001b[38;5;28;01mraise\u001b[39;00m RequestError(\u001b[38;5;124m'\u001b[39m\u001b[38;5;124mmust provide a model\u001b[39m\u001b[38;5;124m'\u001b[39m)\n\u001b[0;32m--> 162\u001b[0m \u001b[38;5;28;01mreturn\u001b[39;00m \u001b[38;5;28;43mself\u001b[39;49m\u001b[38;5;241;43m.\u001b[39;49m\u001b[43m_request_stream\u001b[49m\u001b[43m(\u001b[49m\n\u001b[1;32m    163\u001b[0m \u001b[43m  \u001b[49m\u001b[38;5;124;43m'\u001b[39;49m\u001b[38;5;124;43mPOST\u001b[39;49m\u001b[38;5;124;43m'\u001b[39;49m\u001b[43m,\u001b[49m\n\u001b[1;32m    164\u001b[0m \u001b[43m  \u001b[49m\u001b[38;5;124;43m'\u001b[39;49m\u001b[38;5;124;43m/api/generate\u001b[39;49m\u001b[38;5;124;43m'\u001b[39;49m\u001b[43m,\u001b[49m\n\u001b[1;32m    165\u001b[0m \u001b[43m  \u001b[49m\u001b[43mjson\u001b[49m\u001b[38;5;241;43m=\u001b[39;49m\u001b[43m{\u001b[49m\n\u001b[1;32m    166\u001b[0m \u001b[43m    \u001b[49m\u001b[38;5;124;43m'\u001b[39;49m\u001b[38;5;124;43mmodel\u001b[39;49m\u001b[38;5;124;43m'\u001b[39;49m\u001b[43m:\u001b[49m\u001b[43m \u001b[49m\u001b[43mmodel\u001b[49m\u001b[43m,\u001b[49m\n\u001b[1;32m    167\u001b[0m \u001b[43m    \u001b[49m\u001b[38;5;124;43m'\u001b[39;49m\u001b[38;5;124;43mprompt\u001b[39;49m\u001b[38;5;124;43m'\u001b[39;49m\u001b[43m:\u001b[49m\u001b[43m \u001b[49m\u001b[43mprompt\u001b[49m\u001b[43m,\u001b[49m\n\u001b[1;32m    168\u001b[0m \u001b[43m    \u001b[49m\u001b[38;5;124;43m'\u001b[39;49m\u001b[38;5;124;43msuffix\u001b[39;49m\u001b[38;5;124;43m'\u001b[39;49m\u001b[43m:\u001b[49m\u001b[43m \u001b[49m\u001b[43msuffix\u001b[49m\u001b[43m,\u001b[49m\n\u001b[1;32m    169\u001b[0m \u001b[43m    \u001b[49m\u001b[38;5;124;43m'\u001b[39;49m\u001b[38;5;124;43msystem\u001b[39;49m\u001b[38;5;124;43m'\u001b[39;49m\u001b[43m:\u001b[49m\u001b[43m \u001b[49m\u001b[43msystem\u001b[49m\u001b[43m,\u001b[49m\n\u001b[1;32m    170\u001b[0m \u001b[43m    \u001b[49m\u001b[38;5;124;43m'\u001b[39;49m\u001b[38;5;124;43mtemplate\u001b[39;49m\u001b[38;5;124;43m'\u001b[39;49m\u001b[43m:\u001b[49m\u001b[43m \u001b[49m\u001b[43mtemplate\u001b[49m\u001b[43m,\u001b[49m\n\u001b[1;32m    171\u001b[0m \u001b[43m    \u001b[49m\u001b[38;5;124;43m'\u001b[39;49m\u001b[38;5;124;43mcontext\u001b[39;49m\u001b[38;5;124;43m'\u001b[39;49m\u001b[43m:\u001b[49m\u001b[43m \u001b[49m\u001b[43mcontext\u001b[49m\u001b[43m \u001b[49m\u001b[38;5;129;43;01mor\u001b[39;49;00m\u001b[43m \u001b[49m\u001b[43m[\u001b[49m\u001b[43m]\u001b[49m\u001b[43m,\u001b[49m\n\u001b[1;32m    172\u001b[0m \u001b[43m    \u001b[49m\u001b[38;5;124;43m'\u001b[39;49m\u001b[38;5;124;43mstream\u001b[39;49m\u001b[38;5;124;43m'\u001b[39;49m\u001b[43m:\u001b[49m\u001b[43m \u001b[49m\u001b[43mstream\u001b[49m\u001b[43m,\u001b[49m\n\u001b[1;32m    173\u001b[0m \u001b[43m    \u001b[49m\u001b[38;5;124;43m'\u001b[39;49m\u001b[38;5;124;43mraw\u001b[39;49m\u001b[38;5;124;43m'\u001b[39;49m\u001b[43m:\u001b[49m\u001b[43m \u001b[49m\u001b[43mraw\u001b[49m\u001b[43m,\u001b[49m\n\u001b[1;32m    174\u001b[0m \u001b[43m    \u001b[49m\u001b[38;5;124;43m'\u001b[39;49m\u001b[38;5;124;43mimages\u001b[39;49m\u001b[38;5;124;43m'\u001b[39;49m\u001b[43m:\u001b[49m\u001b[43m \u001b[49m\u001b[43m[\u001b[49m\u001b[43m_encode_image\u001b[49m\u001b[43m(\u001b[49m\u001b[43mimage\u001b[49m\u001b[43m)\u001b[49m\u001b[43m \u001b[49m\u001b[38;5;28;43;01mfor\u001b[39;49;00m\u001b[43m \u001b[49m\u001b[43mimage\u001b[49m\u001b[43m \u001b[49m\u001b[38;5;129;43;01min\u001b[39;49;00m\u001b[43m \u001b[49m\u001b[43mimages\u001b[49m\u001b[43m \u001b[49m\u001b[38;5;129;43;01mor\u001b[39;49;00m\u001b[43m \u001b[49m\u001b[43m[\u001b[49m\u001b[43m]\u001b[49m\u001b[43m]\u001b[49m\u001b[43m,\u001b[49m\n\u001b[1;32m    175\u001b[0m \u001b[43m    \u001b[49m\u001b[38;5;124;43m'\u001b[39;49m\u001b[38;5;124;43mformat\u001b[39;49m\u001b[38;5;124;43m'\u001b[39;49m\u001b[43m:\u001b[49m\u001b[43m \u001b[49m\u001b[38;5;28;43mformat\u001b[39;49m\u001b[43m,\u001b[49m\n\u001b[1;32m    176\u001b[0m \u001b[43m    \u001b[49m\u001b[38;5;124;43m'\u001b[39;49m\u001b[38;5;124;43moptions\u001b[39;49m\u001b[38;5;124;43m'\u001b[39;49m\u001b[43m:\u001b[49m\u001b[43m \u001b[49m\u001b[43moptions\u001b[49m\u001b[43m \u001b[49m\u001b[38;5;129;43;01mor\u001b[39;49;00m\u001b[43m \u001b[49m\u001b[43m{\u001b[49m\u001b[43m}\u001b[49m\u001b[43m,\u001b[49m\n\u001b[1;32m    177\u001b[0m \u001b[43m    \u001b[49m\u001b[38;5;124;43m'\u001b[39;49m\u001b[38;5;124;43mkeep_alive\u001b[39;49m\u001b[38;5;124;43m'\u001b[39;49m\u001b[43m:\u001b[49m\u001b[43m \u001b[49m\u001b[43mkeep_alive\u001b[49m\u001b[43m,\u001b[49m\n\u001b[1;32m    178\u001b[0m \u001b[43m  \u001b[49m\u001b[43m}\u001b[49m\u001b[43m,\u001b[49m\n\u001b[1;32m    179\u001b[0m \u001b[43m  \u001b[49m\u001b[43mstream\u001b[49m\u001b[38;5;241;43m=\u001b[39;49m\u001b[43mstream\u001b[49m\u001b[43m,\u001b[49m\n\u001b[1;32m    180\u001b[0m \u001b[43m\u001b[49m\u001b[43m)\u001b[49m\n",
      "File \u001b[0;32m~/Downloads/summer_internship/Variable_Extraction/venv/lib/python3.12/site-packages/ollama/_client.py:98\u001b[0m, in \u001b[0;36mClient._request_stream\u001b[0;34m(self, stream, *args, **kwargs)\u001b[0m\n\u001b[1;32m     92\u001b[0m \u001b[38;5;28;01mdef\u001b[39;00m \u001b[38;5;21m_request_stream\u001b[39m(\n\u001b[1;32m     93\u001b[0m   \u001b[38;5;28mself\u001b[39m,\n\u001b[1;32m     94\u001b[0m   \u001b[38;5;241m*\u001b[39margs,\n\u001b[1;32m     95\u001b[0m   stream: \u001b[38;5;28mbool\u001b[39m \u001b[38;5;241m=\u001b[39m \u001b[38;5;28;01mFalse\u001b[39;00m,\n\u001b[1;32m     96\u001b[0m   \u001b[38;5;241m*\u001b[39m\u001b[38;5;241m*\u001b[39mkwargs,\n\u001b[1;32m     97\u001b[0m ) \u001b[38;5;241m-\u001b[39m\u001b[38;5;241m>\u001b[39m Union[Mapping[\u001b[38;5;28mstr\u001b[39m, Any], Iterator[Mapping[\u001b[38;5;28mstr\u001b[39m, Any]]]:\n\u001b[0;32m---> 98\u001b[0m   \u001b[38;5;28;01mreturn\u001b[39;00m \u001b[38;5;28mself\u001b[39m\u001b[38;5;241m.\u001b[39m_stream(\u001b[38;5;241m*\u001b[39margs, \u001b[38;5;241m*\u001b[39m\u001b[38;5;241m*\u001b[39mkwargs) \u001b[38;5;28;01mif\u001b[39;00m stream \u001b[38;5;28;01melse\u001b[39;00m \u001b[38;5;28;43mself\u001b[39;49m\u001b[38;5;241;43m.\u001b[39;49m\u001b[43m_request\u001b[49m\u001b[43m(\u001b[49m\u001b[38;5;241;43m*\u001b[39;49m\u001b[43margs\u001b[49m\u001b[43m,\u001b[49m\u001b[43m \u001b[49m\u001b[38;5;241;43m*\u001b[39;49m\u001b[38;5;241;43m*\u001b[39;49m\u001b[43mkwargs\u001b[49m\u001b[43m)\u001b[49m\u001b[38;5;241m.\u001b[39mjson()\n",
      "File \u001b[0;32m~/Downloads/summer_internship/Variable_Extraction/venv/lib/python3.12/site-packages/ollama/_client.py:69\u001b[0m, in \u001b[0;36mClient._request\u001b[0;34m(self, method, url, **kwargs)\u001b[0m\n\u001b[1;32m     68\u001b[0m \u001b[38;5;28;01mdef\u001b[39;00m \u001b[38;5;21m_request\u001b[39m(\u001b[38;5;28mself\u001b[39m, method: \u001b[38;5;28mstr\u001b[39m, url: \u001b[38;5;28mstr\u001b[39m, \u001b[38;5;241m*\u001b[39m\u001b[38;5;241m*\u001b[39mkwargs) \u001b[38;5;241m-\u001b[39m\u001b[38;5;241m>\u001b[39m httpx\u001b[38;5;241m.\u001b[39mResponse:\n\u001b[0;32m---> 69\u001b[0m   response \u001b[38;5;241m=\u001b[39m \u001b[38;5;28;43mself\u001b[39;49m\u001b[38;5;241;43m.\u001b[39;49m\u001b[43m_client\u001b[49m\u001b[38;5;241;43m.\u001b[39;49m\u001b[43mrequest\u001b[49m\u001b[43m(\u001b[49m\u001b[43mmethod\u001b[49m\u001b[43m,\u001b[49m\u001b[43m \u001b[49m\u001b[43murl\u001b[49m\u001b[43m,\u001b[49m\u001b[43m \u001b[49m\u001b[38;5;241;43m*\u001b[39;49m\u001b[38;5;241;43m*\u001b[39;49m\u001b[43mkwargs\u001b[49m\u001b[43m)\u001b[49m\n\u001b[1;32m     71\u001b[0m   \u001b[38;5;28;01mtry\u001b[39;00m:\n\u001b[1;32m     72\u001b[0m     response\u001b[38;5;241m.\u001b[39mraise_for_status()\n",
      "File \u001b[0;32m~/Downloads/summer_internship/Variable_Extraction/venv/lib/python3.12/site-packages/httpx/_client.py:827\u001b[0m, in \u001b[0;36mClient.request\u001b[0;34m(self, method, url, content, data, files, json, params, headers, cookies, auth, follow_redirects, timeout, extensions)\u001b[0m\n\u001b[1;32m    812\u001b[0m     warnings\u001b[38;5;241m.\u001b[39mwarn(message, \u001b[38;5;167;01mDeprecationWarning\u001b[39;00m)\n\u001b[1;32m    814\u001b[0m request \u001b[38;5;241m=\u001b[39m \u001b[38;5;28mself\u001b[39m\u001b[38;5;241m.\u001b[39mbuild_request(\n\u001b[1;32m    815\u001b[0m     method\u001b[38;5;241m=\u001b[39mmethod,\n\u001b[1;32m    816\u001b[0m     url\u001b[38;5;241m=\u001b[39murl,\n\u001b[0;32m   (...)\u001b[0m\n\u001b[1;32m    825\u001b[0m     extensions\u001b[38;5;241m=\u001b[39mextensions,\n\u001b[1;32m    826\u001b[0m )\n\u001b[0;32m--> 827\u001b[0m \u001b[38;5;28;01mreturn\u001b[39;00m \u001b[38;5;28;43mself\u001b[39;49m\u001b[38;5;241;43m.\u001b[39;49m\u001b[43msend\u001b[49m\u001b[43m(\u001b[49m\u001b[43mrequest\u001b[49m\u001b[43m,\u001b[49m\u001b[43m \u001b[49m\u001b[43mauth\u001b[49m\u001b[38;5;241;43m=\u001b[39;49m\u001b[43mauth\u001b[49m\u001b[43m,\u001b[49m\u001b[43m \u001b[49m\u001b[43mfollow_redirects\u001b[49m\u001b[38;5;241;43m=\u001b[39;49m\u001b[43mfollow_redirects\u001b[49m\u001b[43m)\u001b[49m\n",
      "File \u001b[0;32m~/Downloads/summer_internship/Variable_Extraction/venv/lib/python3.12/site-packages/httpx/_client.py:914\u001b[0m, in \u001b[0;36mClient.send\u001b[0;34m(self, request, stream, auth, follow_redirects)\u001b[0m\n\u001b[1;32m    906\u001b[0m follow_redirects \u001b[38;5;241m=\u001b[39m (\n\u001b[1;32m    907\u001b[0m     \u001b[38;5;28mself\u001b[39m\u001b[38;5;241m.\u001b[39mfollow_redirects\n\u001b[1;32m    908\u001b[0m     \u001b[38;5;28;01mif\u001b[39;00m \u001b[38;5;28misinstance\u001b[39m(follow_redirects, UseClientDefault)\n\u001b[1;32m    909\u001b[0m     \u001b[38;5;28;01melse\u001b[39;00m follow_redirects\n\u001b[1;32m    910\u001b[0m )\n\u001b[1;32m    912\u001b[0m auth \u001b[38;5;241m=\u001b[39m \u001b[38;5;28mself\u001b[39m\u001b[38;5;241m.\u001b[39m_build_request_auth(request, auth)\n\u001b[0;32m--> 914\u001b[0m response \u001b[38;5;241m=\u001b[39m \u001b[38;5;28;43mself\u001b[39;49m\u001b[38;5;241;43m.\u001b[39;49m\u001b[43m_send_handling_auth\u001b[49m\u001b[43m(\u001b[49m\n\u001b[1;32m    915\u001b[0m \u001b[43m    \u001b[49m\u001b[43mrequest\u001b[49m\u001b[43m,\u001b[49m\n\u001b[1;32m    916\u001b[0m \u001b[43m    \u001b[49m\u001b[43mauth\u001b[49m\u001b[38;5;241;43m=\u001b[39;49m\u001b[43mauth\u001b[49m\u001b[43m,\u001b[49m\n\u001b[1;32m    917\u001b[0m \u001b[43m    \u001b[49m\u001b[43mfollow_redirects\u001b[49m\u001b[38;5;241;43m=\u001b[39;49m\u001b[43mfollow_redirects\u001b[49m\u001b[43m,\u001b[49m\n\u001b[1;32m    918\u001b[0m \u001b[43m    \u001b[49m\u001b[43mhistory\u001b[49m\u001b[38;5;241;43m=\u001b[39;49m\u001b[43m[\u001b[49m\u001b[43m]\u001b[49m\u001b[43m,\u001b[49m\n\u001b[1;32m    919\u001b[0m \u001b[43m\u001b[49m\u001b[43m)\u001b[49m\n\u001b[1;32m    920\u001b[0m \u001b[38;5;28;01mtry\u001b[39;00m:\n\u001b[1;32m    921\u001b[0m     \u001b[38;5;28;01mif\u001b[39;00m \u001b[38;5;129;01mnot\u001b[39;00m stream:\n",
      "File \u001b[0;32m~/Downloads/summer_internship/Variable_Extraction/venv/lib/python3.12/site-packages/httpx/_client.py:942\u001b[0m, in \u001b[0;36mClient._send_handling_auth\u001b[0;34m(self, request, auth, follow_redirects, history)\u001b[0m\n\u001b[1;32m    939\u001b[0m request \u001b[38;5;241m=\u001b[39m \u001b[38;5;28mnext\u001b[39m(auth_flow)\n\u001b[1;32m    941\u001b[0m \u001b[38;5;28;01mwhile\u001b[39;00m \u001b[38;5;28;01mTrue\u001b[39;00m:\n\u001b[0;32m--> 942\u001b[0m     response \u001b[38;5;241m=\u001b[39m \u001b[38;5;28;43mself\u001b[39;49m\u001b[38;5;241;43m.\u001b[39;49m\u001b[43m_send_handling_redirects\u001b[49m\u001b[43m(\u001b[49m\n\u001b[1;32m    943\u001b[0m \u001b[43m        \u001b[49m\u001b[43mrequest\u001b[49m\u001b[43m,\u001b[49m\n\u001b[1;32m    944\u001b[0m \u001b[43m        \u001b[49m\u001b[43mfollow_redirects\u001b[49m\u001b[38;5;241;43m=\u001b[39;49m\u001b[43mfollow_redirects\u001b[49m\u001b[43m,\u001b[49m\n\u001b[1;32m    945\u001b[0m \u001b[43m        \u001b[49m\u001b[43mhistory\u001b[49m\u001b[38;5;241;43m=\u001b[39;49m\u001b[43mhistory\u001b[49m\u001b[43m,\u001b[49m\n\u001b[1;32m    946\u001b[0m \u001b[43m    \u001b[49m\u001b[43m)\u001b[49m\n\u001b[1;32m    947\u001b[0m     \u001b[38;5;28;01mtry\u001b[39;00m:\n\u001b[1;32m    948\u001b[0m         \u001b[38;5;28;01mtry\u001b[39;00m:\n",
      "File \u001b[0;32m~/Downloads/summer_internship/Variable_Extraction/venv/lib/python3.12/site-packages/httpx/_client.py:979\u001b[0m, in \u001b[0;36mClient._send_handling_redirects\u001b[0;34m(self, request, follow_redirects, history)\u001b[0m\n\u001b[1;32m    976\u001b[0m \u001b[38;5;28;01mfor\u001b[39;00m hook \u001b[38;5;129;01min\u001b[39;00m \u001b[38;5;28mself\u001b[39m\u001b[38;5;241m.\u001b[39m_event_hooks[\u001b[38;5;124m\"\u001b[39m\u001b[38;5;124mrequest\u001b[39m\u001b[38;5;124m\"\u001b[39m]:\n\u001b[1;32m    977\u001b[0m     hook(request)\n\u001b[0;32m--> 979\u001b[0m response \u001b[38;5;241m=\u001b[39m \u001b[38;5;28;43mself\u001b[39;49m\u001b[38;5;241;43m.\u001b[39;49m\u001b[43m_send_single_request\u001b[49m\u001b[43m(\u001b[49m\u001b[43mrequest\u001b[49m\u001b[43m)\u001b[49m\n\u001b[1;32m    980\u001b[0m \u001b[38;5;28;01mtry\u001b[39;00m:\n\u001b[1;32m    981\u001b[0m     \u001b[38;5;28;01mfor\u001b[39;00m hook \u001b[38;5;129;01min\u001b[39;00m \u001b[38;5;28mself\u001b[39m\u001b[38;5;241m.\u001b[39m_event_hooks[\u001b[38;5;124m\"\u001b[39m\u001b[38;5;124mresponse\u001b[39m\u001b[38;5;124m\"\u001b[39m]:\n",
      "File \u001b[0;32m~/Downloads/summer_internship/Variable_Extraction/venv/lib/python3.12/site-packages/httpx/_client.py:1015\u001b[0m, in \u001b[0;36mClient._send_single_request\u001b[0;34m(self, request)\u001b[0m\n\u001b[1;32m   1010\u001b[0m     \u001b[38;5;28;01mraise\u001b[39;00m \u001b[38;5;167;01mRuntimeError\u001b[39;00m(\n\u001b[1;32m   1011\u001b[0m         \u001b[38;5;124m\"\u001b[39m\u001b[38;5;124mAttempted to send an async request with a sync Client instance.\u001b[39m\u001b[38;5;124m\"\u001b[39m\n\u001b[1;32m   1012\u001b[0m     )\n\u001b[1;32m   1014\u001b[0m \u001b[38;5;28;01mwith\u001b[39;00m request_context(request\u001b[38;5;241m=\u001b[39mrequest):\n\u001b[0;32m-> 1015\u001b[0m     response \u001b[38;5;241m=\u001b[39m \u001b[43mtransport\u001b[49m\u001b[38;5;241;43m.\u001b[39;49m\u001b[43mhandle_request\u001b[49m\u001b[43m(\u001b[49m\u001b[43mrequest\u001b[49m\u001b[43m)\u001b[49m\n\u001b[1;32m   1017\u001b[0m \u001b[38;5;28;01massert\u001b[39;00m \u001b[38;5;28misinstance\u001b[39m(response\u001b[38;5;241m.\u001b[39mstream, SyncByteStream)\n\u001b[1;32m   1019\u001b[0m response\u001b[38;5;241m.\u001b[39mrequest \u001b[38;5;241m=\u001b[39m request\n",
      "File \u001b[0;32m~/Downloads/summer_internship/Variable_Extraction/venv/lib/python3.12/site-packages/httpx/_transports/default.py:233\u001b[0m, in \u001b[0;36mHTTPTransport.handle_request\u001b[0;34m(self, request)\u001b[0m\n\u001b[1;32m    220\u001b[0m req \u001b[38;5;241m=\u001b[39m httpcore\u001b[38;5;241m.\u001b[39mRequest(\n\u001b[1;32m    221\u001b[0m     method\u001b[38;5;241m=\u001b[39mrequest\u001b[38;5;241m.\u001b[39mmethod,\n\u001b[1;32m    222\u001b[0m     url\u001b[38;5;241m=\u001b[39mhttpcore\u001b[38;5;241m.\u001b[39mURL(\n\u001b[0;32m   (...)\u001b[0m\n\u001b[1;32m    230\u001b[0m     extensions\u001b[38;5;241m=\u001b[39mrequest\u001b[38;5;241m.\u001b[39mextensions,\n\u001b[1;32m    231\u001b[0m )\n\u001b[1;32m    232\u001b[0m \u001b[38;5;28;01mwith\u001b[39;00m map_httpcore_exceptions():\n\u001b[0;32m--> 233\u001b[0m     resp \u001b[38;5;241m=\u001b[39m \u001b[38;5;28;43mself\u001b[39;49m\u001b[38;5;241;43m.\u001b[39;49m\u001b[43m_pool\u001b[49m\u001b[38;5;241;43m.\u001b[39;49m\u001b[43mhandle_request\u001b[49m\u001b[43m(\u001b[49m\u001b[43mreq\u001b[49m\u001b[43m)\u001b[49m\n\u001b[1;32m    235\u001b[0m \u001b[38;5;28;01massert\u001b[39;00m \u001b[38;5;28misinstance\u001b[39m(resp\u001b[38;5;241m.\u001b[39mstream, typing\u001b[38;5;241m.\u001b[39mIterable)\n\u001b[1;32m    237\u001b[0m \u001b[38;5;28;01mreturn\u001b[39;00m Response(\n\u001b[1;32m    238\u001b[0m     status_code\u001b[38;5;241m=\u001b[39mresp\u001b[38;5;241m.\u001b[39mstatus,\n\u001b[1;32m    239\u001b[0m     headers\u001b[38;5;241m=\u001b[39mresp\u001b[38;5;241m.\u001b[39mheaders,\n\u001b[1;32m    240\u001b[0m     stream\u001b[38;5;241m=\u001b[39mResponseStream(resp\u001b[38;5;241m.\u001b[39mstream),\n\u001b[1;32m    241\u001b[0m     extensions\u001b[38;5;241m=\u001b[39mresp\u001b[38;5;241m.\u001b[39mextensions,\n\u001b[1;32m    242\u001b[0m )\n",
      "File \u001b[0;32m~/Downloads/summer_internship/Variable_Extraction/venv/lib/python3.12/site-packages/httpcore/_sync/connection_pool.py:216\u001b[0m, in \u001b[0;36mConnectionPool.handle_request\u001b[0;34m(self, request)\u001b[0m\n\u001b[1;32m    213\u001b[0m         closing \u001b[38;5;241m=\u001b[39m \u001b[38;5;28mself\u001b[39m\u001b[38;5;241m.\u001b[39m_assign_requests_to_connections()\n\u001b[1;32m    215\u001b[0m     \u001b[38;5;28mself\u001b[39m\u001b[38;5;241m.\u001b[39m_close_connections(closing)\n\u001b[0;32m--> 216\u001b[0m     \u001b[38;5;28;01mraise\u001b[39;00m exc \u001b[38;5;28;01mfrom\u001b[39;00m \u001b[38;5;28;01mNone\u001b[39;00m\n\u001b[1;32m    218\u001b[0m \u001b[38;5;66;03m# Return the response. Note that in this case we still have to manage\u001b[39;00m\n\u001b[1;32m    219\u001b[0m \u001b[38;5;66;03m# the point at which the response is closed.\u001b[39;00m\n\u001b[1;32m    220\u001b[0m \u001b[38;5;28;01massert\u001b[39;00m \u001b[38;5;28misinstance\u001b[39m(response\u001b[38;5;241m.\u001b[39mstream, Iterable)\n",
      "File \u001b[0;32m~/Downloads/summer_internship/Variable_Extraction/venv/lib/python3.12/site-packages/httpcore/_sync/connection_pool.py:196\u001b[0m, in \u001b[0;36mConnectionPool.handle_request\u001b[0;34m(self, request)\u001b[0m\n\u001b[1;32m    192\u001b[0m connection \u001b[38;5;241m=\u001b[39m pool_request\u001b[38;5;241m.\u001b[39mwait_for_connection(timeout\u001b[38;5;241m=\u001b[39mtimeout)\n\u001b[1;32m    194\u001b[0m \u001b[38;5;28;01mtry\u001b[39;00m:\n\u001b[1;32m    195\u001b[0m     \u001b[38;5;66;03m# Send the request on the assigned connection.\u001b[39;00m\n\u001b[0;32m--> 196\u001b[0m     response \u001b[38;5;241m=\u001b[39m \u001b[43mconnection\u001b[49m\u001b[38;5;241;43m.\u001b[39;49m\u001b[43mhandle_request\u001b[49m\u001b[43m(\u001b[49m\n\u001b[1;32m    197\u001b[0m \u001b[43m        \u001b[49m\u001b[43mpool_request\u001b[49m\u001b[38;5;241;43m.\u001b[39;49m\u001b[43mrequest\u001b[49m\n\u001b[1;32m    198\u001b[0m \u001b[43m    \u001b[49m\u001b[43m)\u001b[49m\n\u001b[1;32m    199\u001b[0m \u001b[38;5;28;01mexcept\u001b[39;00m ConnectionNotAvailable:\n\u001b[1;32m    200\u001b[0m     \u001b[38;5;66;03m# In some cases a connection may initially be available to\u001b[39;00m\n\u001b[1;32m    201\u001b[0m     \u001b[38;5;66;03m# handle a request, but then become unavailable.\u001b[39;00m\n\u001b[1;32m    202\u001b[0m     \u001b[38;5;66;03m#\u001b[39;00m\n\u001b[1;32m    203\u001b[0m     \u001b[38;5;66;03m# In this case we clear the connection and try again.\u001b[39;00m\n\u001b[1;32m    204\u001b[0m     pool_request\u001b[38;5;241m.\u001b[39mclear_connection()\n",
      "File \u001b[0;32m~/Downloads/summer_internship/Variable_Extraction/venv/lib/python3.12/site-packages/httpcore/_sync/connection.py:101\u001b[0m, in \u001b[0;36mHTTPConnection.handle_request\u001b[0;34m(self, request)\u001b[0m\n\u001b[1;32m     98\u001b[0m     \u001b[38;5;28mself\u001b[39m\u001b[38;5;241m.\u001b[39m_connect_failed \u001b[38;5;241m=\u001b[39m \u001b[38;5;28;01mTrue\u001b[39;00m\n\u001b[1;32m     99\u001b[0m     \u001b[38;5;28;01mraise\u001b[39;00m exc\n\u001b[0;32m--> 101\u001b[0m \u001b[38;5;28;01mreturn\u001b[39;00m \u001b[38;5;28;43mself\u001b[39;49m\u001b[38;5;241;43m.\u001b[39;49m\u001b[43m_connection\u001b[49m\u001b[38;5;241;43m.\u001b[39;49m\u001b[43mhandle_request\u001b[49m\u001b[43m(\u001b[49m\u001b[43mrequest\u001b[49m\u001b[43m)\u001b[49m\n",
      "File \u001b[0;32m~/Downloads/summer_internship/Variable_Extraction/venv/lib/python3.12/site-packages/httpcore/_sync/http11.py:143\u001b[0m, in \u001b[0;36mHTTP11Connection.handle_request\u001b[0;34m(self, request)\u001b[0m\n\u001b[1;32m    141\u001b[0m     \u001b[38;5;28;01mwith\u001b[39;00m Trace(\u001b[38;5;124m\"\u001b[39m\u001b[38;5;124mresponse_closed\u001b[39m\u001b[38;5;124m\"\u001b[39m, logger, request) \u001b[38;5;28;01mas\u001b[39;00m trace:\n\u001b[1;32m    142\u001b[0m         \u001b[38;5;28mself\u001b[39m\u001b[38;5;241m.\u001b[39m_response_closed()\n\u001b[0;32m--> 143\u001b[0m \u001b[38;5;28;01mraise\u001b[39;00m exc\n",
      "File \u001b[0;32m~/Downloads/summer_internship/Variable_Extraction/venv/lib/python3.12/site-packages/httpcore/_sync/http11.py:113\u001b[0m, in \u001b[0;36mHTTP11Connection.handle_request\u001b[0;34m(self, request)\u001b[0m\n\u001b[1;32m    102\u001b[0m     \u001b[38;5;28;01mpass\u001b[39;00m\n\u001b[1;32m    104\u001b[0m \u001b[38;5;28;01mwith\u001b[39;00m Trace(\n\u001b[1;32m    105\u001b[0m     \u001b[38;5;124m\"\u001b[39m\u001b[38;5;124mreceive_response_headers\u001b[39m\u001b[38;5;124m\"\u001b[39m, logger, request, kwargs\n\u001b[1;32m    106\u001b[0m ) \u001b[38;5;28;01mas\u001b[39;00m trace:\n\u001b[1;32m    107\u001b[0m     (\n\u001b[1;32m    108\u001b[0m         http_version,\n\u001b[1;32m    109\u001b[0m         status,\n\u001b[1;32m    110\u001b[0m         reason_phrase,\n\u001b[1;32m    111\u001b[0m         headers,\n\u001b[1;32m    112\u001b[0m         trailing_data,\n\u001b[0;32m--> 113\u001b[0m     ) \u001b[38;5;241m=\u001b[39m \u001b[38;5;28;43mself\u001b[39;49m\u001b[38;5;241;43m.\u001b[39;49m\u001b[43m_receive_response_headers\u001b[49m\u001b[43m(\u001b[49m\u001b[38;5;241;43m*\u001b[39;49m\u001b[38;5;241;43m*\u001b[39;49m\u001b[43mkwargs\u001b[49m\u001b[43m)\u001b[49m\n\u001b[1;32m    114\u001b[0m     trace\u001b[38;5;241m.\u001b[39mreturn_value \u001b[38;5;241m=\u001b[39m (\n\u001b[1;32m    115\u001b[0m         http_version,\n\u001b[1;32m    116\u001b[0m         status,\n\u001b[1;32m    117\u001b[0m         reason_phrase,\n\u001b[1;32m    118\u001b[0m         headers,\n\u001b[1;32m    119\u001b[0m     )\n\u001b[1;32m    121\u001b[0m network_stream \u001b[38;5;241m=\u001b[39m \u001b[38;5;28mself\u001b[39m\u001b[38;5;241m.\u001b[39m_network_stream\n",
      "File \u001b[0;32m~/Downloads/summer_internship/Variable_Extraction/venv/lib/python3.12/site-packages/httpcore/_sync/http11.py:186\u001b[0m, in \u001b[0;36mHTTP11Connection._receive_response_headers\u001b[0;34m(self, request)\u001b[0m\n\u001b[1;32m    183\u001b[0m timeout \u001b[38;5;241m=\u001b[39m timeouts\u001b[38;5;241m.\u001b[39mget(\u001b[38;5;124m\"\u001b[39m\u001b[38;5;124mread\u001b[39m\u001b[38;5;124m\"\u001b[39m, \u001b[38;5;28;01mNone\u001b[39;00m)\n\u001b[1;32m    185\u001b[0m \u001b[38;5;28;01mwhile\u001b[39;00m \u001b[38;5;28;01mTrue\u001b[39;00m:\n\u001b[0;32m--> 186\u001b[0m     event \u001b[38;5;241m=\u001b[39m \u001b[38;5;28;43mself\u001b[39;49m\u001b[38;5;241;43m.\u001b[39;49m\u001b[43m_receive_event\u001b[49m\u001b[43m(\u001b[49m\u001b[43mtimeout\u001b[49m\u001b[38;5;241;43m=\u001b[39;49m\u001b[43mtimeout\u001b[49m\u001b[43m)\u001b[49m\n\u001b[1;32m    187\u001b[0m     \u001b[38;5;28;01mif\u001b[39;00m \u001b[38;5;28misinstance\u001b[39m(event, h11\u001b[38;5;241m.\u001b[39mResponse):\n\u001b[1;32m    188\u001b[0m         \u001b[38;5;28;01mbreak\u001b[39;00m\n",
      "File \u001b[0;32m~/Downloads/summer_internship/Variable_Extraction/venv/lib/python3.12/site-packages/httpcore/_sync/http11.py:224\u001b[0m, in \u001b[0;36mHTTP11Connection._receive_event\u001b[0;34m(self, timeout)\u001b[0m\n\u001b[1;32m    221\u001b[0m     event \u001b[38;5;241m=\u001b[39m \u001b[38;5;28mself\u001b[39m\u001b[38;5;241m.\u001b[39m_h11_state\u001b[38;5;241m.\u001b[39mnext_event()\n\u001b[1;32m    223\u001b[0m \u001b[38;5;28;01mif\u001b[39;00m event \u001b[38;5;129;01mis\u001b[39;00m h11\u001b[38;5;241m.\u001b[39mNEED_DATA:\n\u001b[0;32m--> 224\u001b[0m     data \u001b[38;5;241m=\u001b[39m \u001b[38;5;28;43mself\u001b[39;49m\u001b[38;5;241;43m.\u001b[39;49m\u001b[43m_network_stream\u001b[49m\u001b[38;5;241;43m.\u001b[39;49m\u001b[43mread\u001b[49m\u001b[43m(\u001b[49m\n\u001b[1;32m    225\u001b[0m \u001b[43m        \u001b[49m\u001b[38;5;28;43mself\u001b[39;49m\u001b[38;5;241;43m.\u001b[39;49m\u001b[43mREAD_NUM_BYTES\u001b[49m\u001b[43m,\u001b[49m\u001b[43m \u001b[49m\u001b[43mtimeout\u001b[49m\u001b[38;5;241;43m=\u001b[39;49m\u001b[43mtimeout\u001b[49m\n\u001b[1;32m    226\u001b[0m \u001b[43m    \u001b[49m\u001b[43m)\u001b[49m\n\u001b[1;32m    228\u001b[0m     \u001b[38;5;66;03m# If we feed this case through h11 we'll raise an exception like:\u001b[39;00m\n\u001b[1;32m    229\u001b[0m     \u001b[38;5;66;03m#\u001b[39;00m\n\u001b[1;32m    230\u001b[0m     \u001b[38;5;66;03m#     httpcore.RemoteProtocolError: can't handle event type\u001b[39;00m\n\u001b[0;32m   (...)\u001b[0m\n\u001b[1;32m    234\u001b[0m     \u001b[38;5;66;03m# perspective. Instead we handle this case distinctly and treat\u001b[39;00m\n\u001b[1;32m    235\u001b[0m     \u001b[38;5;66;03m# it as a ConnectError.\u001b[39;00m\n\u001b[1;32m    236\u001b[0m     \u001b[38;5;28;01mif\u001b[39;00m data \u001b[38;5;241m==\u001b[39m \u001b[38;5;124mb\u001b[39m\u001b[38;5;124m\"\u001b[39m\u001b[38;5;124m\"\u001b[39m \u001b[38;5;129;01mand\u001b[39;00m \u001b[38;5;28mself\u001b[39m\u001b[38;5;241m.\u001b[39m_h11_state\u001b[38;5;241m.\u001b[39mtheir_state \u001b[38;5;241m==\u001b[39m h11\u001b[38;5;241m.\u001b[39mSEND_RESPONSE:\n",
      "File \u001b[0;32m~/Downloads/summer_internship/Variable_Extraction/venv/lib/python3.12/site-packages/httpcore/_backends/sync.py:126\u001b[0m, in \u001b[0;36mSyncStream.read\u001b[0;34m(self, max_bytes, timeout)\u001b[0m\n\u001b[1;32m    124\u001b[0m \u001b[38;5;28;01mwith\u001b[39;00m map_exceptions(exc_map):\n\u001b[1;32m    125\u001b[0m     \u001b[38;5;28mself\u001b[39m\u001b[38;5;241m.\u001b[39m_sock\u001b[38;5;241m.\u001b[39msettimeout(timeout)\n\u001b[0;32m--> 126\u001b[0m     \u001b[38;5;28;01mreturn\u001b[39;00m \u001b[38;5;28;43mself\u001b[39;49m\u001b[38;5;241;43m.\u001b[39;49m\u001b[43m_sock\u001b[49m\u001b[38;5;241;43m.\u001b[39;49m\u001b[43mrecv\u001b[49m\u001b[43m(\u001b[49m\u001b[43mmax_bytes\u001b[49m\u001b[43m)\u001b[49m\n",
      "\u001b[0;31mKeyboardInterrupt\u001b[0m: "
     ]
    }
   ],
   "source": [
    "response = ollama.generate(\n",
    "            model=\"llama3.1\",\n",
    "            prompt=s,\n",
    "            system=prompt,\n",
    "            format=\"json\",\n",
    "        )"
   ]
  },
  {
   "cell_type": "code",
   "execution_count": null,
   "id": "f856fe1b-082b-4c92-ba58-32ae1334d6d1",
   "metadata": {},
   "outputs": [],
   "source": [
    "response"
   ]
  },
  {
   "cell_type": "markdown",
   "id": "22406cc3-67c1-49f4-866f-374d79b0144d",
   "metadata": {},
   "source": [
    "### To do\n",
    "1. Make it easier to visualize jury trials/extract jury trial results and do the same for other variables\n",
    "2. Add reranking algorithm\n",
    "3. Add helper function to manually label\n",
    "\n",
    "- Designed application to extract variables from over 15 million legal documents using natural language processing methods\n",
    "- Developed over 5,000 lines of maintainable and documented \n",
    "- Coordinated meetings between research staff and legal librarian, presented variable extraction approach to research group\n",
    "\n",
    "Reranking\n",
    "- https://adasci.org/a-hands-on-guide-to-enhance-rag-with-re-ranking/\n",
    "- https://techcommunity.microsoft.com/t5/microsoft-developer-community/doing-rag-vector-search-is-not-enough/ba-p/4161073\n",
    "- https://community.openai.com/t/bad-formats-for-semantic-search-of-rag-implementing-internal-chatbot-for-troubleshooting-an-sdk/848715\n",
    "- https://learn.microsoft.com/en-us/azure/search/index-similarity-and-scoring\n",
    "- https://cohere.com/blog/rerank-3\n",
    "- https://www.reddit.com/r/LocalLLaMA/comments/1d9h2pg/doing_rag_vector_search_is_not_enough/\n",
    "- https://www.datacamp.com/tutorial/boost-llm-accuracy-retrieval-augmented-generation-rag-reranking\n",
    "- https://python.langchain.com/v0.2/docs/integrations/retrievers/flashrank-reranker/\n",
    "\n",
    "RAG\n",
    "- https://ollama.com/blog/embedding-models\n",
    "- https://huggingface.co/learn/nlp-course/chapter5/6\n",
    "- https://docs.mistral.ai/guides/rag/\n",
    "- https://docs.trychroma.com/guides"
   ]
  }
 ],
 "metadata": {
  "kernelspec": {
   "display_name": "Python 3 (ipykernel)",
   "language": "python",
   "name": "python3"
  },
  "language_info": {
   "codemirror_mode": {
    "name": "ipython",
    "version": 3
   },
   "file_extension": ".py",
   "mimetype": "text/x-python",
   "name": "python",
   "nbconvert_exporter": "python",
   "pygments_lexer": "ipython3",
   "version": "3.12.4"
  }
 },
 "nbformat": 4,
 "nbformat_minor": 5
}
